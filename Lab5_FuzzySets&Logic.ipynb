{
 "cells": [
  {
   "cell_type": "markdown",
   "id": "0464241c",
   "metadata": {},
   "source": [
    "### Задача 1. Визначення обсягу можливого фінансування інвестиційного проекту\n",
    "i – номер студента в таблиці з оцінками на Гугл-диску, у моєму випадку **i = 10**\n",
    "\n",
    "Відомо, що у фінансуванні проекту беруть участь п’ять фінансових установ, про які відомо таке:\\\n",
    "**Установа А** надійна і стабільна, сума фінансування складе 300+10i у.о.\\\n",
    "**Установа Б** надійна, але сума фінансування залежить від часу надання коштів. Так, з повною впевненістю можна стверджувати про те, що сума фінансування складе від 250+10i до 400+10i у.о., причому найбільш можливо одержати суму від 300+5i до 350+10i у.о.\\\n",
    "**Установа В** планує фінансування проекту в сумі 200-300 у.о. із збільшенням впевненості в наданні суми з ростом обсягу виплати.\\\n",
    "**Установу  Г**  визначають  як  нестабільну, але із можливістю надання значних сум коштів. Так, існує значна впевненість в тому, що проект буде профінансовано, зокрема в обсязі 200+10i-240+10i у.о., але більш надійно одержати 210-220 у.о.\\\n",
    "**Установа Д** ненадійна і нестабільна, проект напевне не фінансуватиме, але якщо надасть кошти, то в обсязі 300+5i-500+5i у.о. із зменшенням упевненості в одержанні коштів із зростанням їх суми.\\\n",
    "\\\n",
    "Визначити, найбільш можливу суму фінансування, неможливі обсяги фінансування, тощо.\n"
   ]
  },
  {
   "cell_type": "code",
   "execution_count": 36,
   "id": "54af6bc8",
   "metadata": {},
   "outputs": [],
   "source": [
    "%matplotlib inline\n",
    "\n",
    "import matplotlib.pyplot as plt"
   ]
  },
  {
   "cell_type": "code",
   "execution_count": 5,
   "id": "7d5bb3ec",
   "metadata": {},
   "outputs": [],
   "source": [
    "from collections import namedtuple\n",
    "\n",
    "fuzzyInterval = namedtuple(\"fuzzyInterval\", [\"left_mode\", \"right_mode\", \"alpha\", \"beta\", \"height\"])"
   ]
  },
  {
   "cell_type": "code",
   "execution_count": 125,
   "id": "d4f2773d",
   "metadata": {},
   "outputs": [],
   "source": [
    "fuzzyValues = [\n",
    "    [fuzzyInterval(400, 400, 0, 0, 1)], \n",
    "    [fuzzyInterval(350, 450, 0, 50, 1)], \n",
    "    [fuzzyInterval(300, 300, 100, 0, 1)], \n",
    "    [fuzzyInterval(0, 0, 0, 0, 0.1), fuzzyInterval(210, 220, 0, 0, 0.7), fuzzyInterval(300, 340, 0, 0, 0.2)], \n",
    "    [fuzzyInterval(0, 0, 0, 0, 0.9), fuzzyInterval(210, 210, 0, 10, 0.1)], \n",
    "]"
   ]
  },
  {
   "cell_type": "markdown",
   "id": "6a3db658",
   "metadata": {},
   "source": [
    "Результатом операції $M_i \\bigoplus M_j$, де $M_i, M_j$ - трапецієвидні нечіткі інтервали\\\n",
    "буде новий трапецієвидний нечіткий інтервал з параметрами:\\\n",
    "$(\\underline{m}, \\bar{m}, \\alpha, \\beta, h)$, де $h = min(h_i, h_j)$, $\\alpha = h (\\frac{\\alpha_i}{h_i} + \\frac{\\alpha_j}{h_j})$, $\\beta = h (\\frac{\\beta_i}{h_i} + \\frac{\\beta_j}{h_j})$, $\\underline{m} = \\underline{m}_i + \\underline{m}_j - \\alpha_i - \\alpha_j + \\alpha$, $\\bar{m} = \\bar{m}_i + \\bar{m}_j+\\beta_i +\\beta_j - \\beta$"
   ]
  },
  {
   "cell_type": "code",
   "execution_count": 33,
   "id": "431e0736",
   "metadata": {},
   "outputs": [],
   "source": [
    "def add_values(x, y):\n",
    "    h = min(x.height, y.height)\n",
    "    alpha, beta = h * (x.alpha / x.height + y.alpha / y.height), h * (x.beta / x.height + y.beta / y.height)\n",
    "    ml = x.left_mode + y.left_mode - x.alpha - y.alpha + alpha\n",
    "    mr = x.right_mode + y.right_mode + x.beta + y.beta - beta\n",
    "    return fuzzyInterval(ml, mr, alpha, beta, h)"
   ]
  },
  {
   "cell_type": "code",
   "execution_count": 59,
   "id": "df186195",
   "metadata": {},
   "outputs": [],
   "source": [
    "# def get_resulting_sets(values, i=0, j=0, result=None):\n",
    "#     if i == 0:\n",
    "#         result = values[i][j]\n",
    "#     if i < len(values) - 1:\n",
    "#         for k in range(len(values[i+1])):\n",
    "#             get_resulting_sets(values, i+1, k, add_values(result, values[i+1][k]))\n",
    "#     else:\n",
    "#         lst.append(result)\n",
    "\n",
    "def get_resulting_sets(values, lst_res, i=0, j=0, result=None):\n",
    "    if i == 0:\n",
    "        result = values[i][j]\n",
    "    if i < len(values) - 1:\n",
    "        for k in range(len(values[i+1])):\n",
    "            get_resulting_sets(values, lst_res, i+1, k, add_values(result, values[i+1][k]))\n",
    "    else:\n",
    "        lst_res.append(result)"
   ]
  },
  {
   "cell_type": "code",
   "execution_count": 53,
   "id": "de31f481",
   "metadata": {},
   "outputs": [],
   "source": [
    "def plot(ax, fuzzyValue):\n",
    "    left_mode, right_mode = fuzzyValue.left_mode, fuzzyValue.right_mode\n",
    "    alpha, beta, height = fuzzyValue.alpha, fuzzyValue.beta, fuzzyValue.height\n",
    "    xs, ys = [left_mode - alpha, left_mode, right_mode, right_mode + beta], [0, height,  height, 0]\n",
    "    ax.plot(xs, ys, \"-\")\n",
    "    return xs"
   ]
  },
  {
   "cell_type": "markdown",
   "id": "53a0e793",
   "metadata": {},
   "source": [
    "#### test example"
   ]
  },
  {
   "cell_type": "code",
   "execution_count": 62,
   "id": "95c78b77",
   "metadata": {},
   "outputs": [
    {
     "data": {
      "image/png": "[encoded data removed]",
      "text/plain": [
       "<Figure size 648x288 with 1 Axes>"
      ]
     },
     "metadata": {
      "needs_background": "light"
     },
     "output_type": "display_data"
    },
    {
     "data": {
      "text/plain": [
       "[fuzzyInterval(left_mode=294.0, right_mode=424.0, alpha=24.0, beta=16.0, height=0.8),\n",
       " fuzzyInterval(left_mode=296.0, right_mode=456.0, alpha=6.0, beta=14.0, height=0.2),\n",
       " fuzzyInterval(left_mode=176.0, right_mode=236.0, alpha=6.0, beta=4.0, height=0.2),\n",
       " fuzzyInterval(left_mode=196.0, right_mode=256.0, alpha=6.0, beta=14.0, height=0.2)]"
      ]
     },
     "execution_count": 62,
     "metadata": {},
     "output_type": "execute_result"
    }
   ],
   "source": [
    "testFuzzyValues = [\n",
    "    [fuzzyInterval(100, 100, 0, 0, 1)], \n",
    "    [fuzzyInterval(100, 120, 30, 20, 1)], \n",
    "    [fuzzyInterval(100, 200, 0, 0, 0.8), fuzzyInterval(0, 0, 0, 0, 0.2)], \n",
    "    [fuzzyInterval(0, 0, 0, 0, 0.8), fuzzyInterval(20, 20, 0, 10, 0.2)], \n",
    "]\n",
    "\n",
    "testIntervals = []\n",
    "get_resulting_sets(testFuzzyValues, testIntervals)\n",
    "\n",
    "fig, ax = plt.subplots(figsize=(9, 4))\n",
    "\n",
    "\n",
    "for interval in testIntervals:\n",
    "    plot(ax, interval)\n",
    "plt.show()\n",
    "\n",
    "testIntervals"
   ]
  },
  {
   "cell_type": "markdown",
   "id": "1a507858",
   "metadata": {},
   "source": [
    "#### actual task"
   ]
  },
  {
   "cell_type": "code",
   "execution_count": 116,
   "id": "d4149944",
   "metadata": {
    "scrolled": false
   },
   "outputs": [
    {
     "data": {
      "image/png": "[encoded data removed]",
      "text/plain": [
       "<Figure size 648x288 with 1 Axes>"
      ]
     },
     "metadata": {
      "needs_background": "light"
     },
     "output_type": "display_data"
    },
    {
     "data": {
      "text/plain": [
       "[fuzzyInterval(left_mode=960.0, right_mode=1195.0, alpha=10.0, beta=5.0, height=0.1),\n",
       " fuzzyInterval(left_mode=1170.0, right_mode=1405.0, alpha=10.0, beta=15.0, height=0.1),\n",
       " fuzzyInterval(left_mode=1230.0, right_mode=1385.0, alpha=70.0, beta=35.0, height=0.7),\n",
       " fuzzyInterval(left_mode=1380.0, right_mode=1625.0, alpha=10.0, beta=15.0, height=0.1),\n",
       " fuzzyInterval(left_mode=1270.0, right_mode=1530.0, alpha=20.0, beta=10.0, height=0.2),\n",
       " fuzzyInterval(left_mode=1470.0, right_mode=1745.0, alpha=10.0, beta=15.0, height=0.1)]"
      ]
     },
     "execution_count": 116,
     "metadata": {},
     "output_type": "execute_result"
    }
   ],
   "source": [
    "intervals = []\n",
    "get_resulting_sets(fuzzyValues, intervals)\n",
    "\n",
    "fig, ax = plt.subplots(figsize=(9, 4))\n",
    "\n",
    "for interval in intervals:\n",
    "    plot(ax, interval)\n",
    "plt.show()\n",
    "\n",
    "intervals"
   ]
  },
  {
   "cell_type": "markdown",
   "id": "09d8c9f6",
   "metadata": {},
   "source": [
    "Бачимо, що найбільш імовірним э варіант отримати фінансування в діапазоні \\[1230.0, 1385.0\\]\\\n",
    "В той час як загальний діапазон імовірного фінансування \\[950.0, 1760.0\\]"
   ]
  },
  {
   "cell_type": "markdown",
   "id": "33aad2dd",
   "metadata": {},
   "source": [
    "### Задача 2. Нечітке логічне виведення\n",
    "Нехай базу знань складають два правила:\\\n",
    "$P_1$ якщо $x \\in A_1$ і $y \\in B_1$ то $z \\in C_1$\\\n",
    "$P_2$ якщо $x \\in A_2$ і $y \\in B_2$ то $z \\in C_2$\\\n",
    "де $A_1, A_2, B_1, B_2, C_1, C_2$ − нечіткі множини із трапецієподібними функціями належності \\\n",
    "$\\mu_{A_1}=\\langle 100, 200, 30, 40, 1\\rangle$, \n",
    "$\\mu_{A_2}=\\langle 200, 300, 20, 60, 1\\rangle$,\\\n",
    "$\\mu_{B_1}=\\langle 140, 240, 30, 40, 1\\rangle$,\n",
    "$\\mu_{B_2}=\\langle 240, 320, 50, 40, 1\\rangle$,\\\n",
    "$\\mu_{C_1}=\\langle 50, 100, 10, 30, 1\\rangle$,\n",
    "$\\mu_{C_2}=\\langle 100, 150, 20, 50, 1\\rangle$\n",
    "\n",
    "Знайти $z_0$, якщо $x_0 = 220$ і $y_0 = 200$\\\n",
    "Використати **виведення Мамдані** \n"
   ]
  },
  {
   "cell_type": "markdown",
   "id": "c8f62266",
   "metadata": {},
   "source": [
    "<img src=\"images/mamdani1.png\" width=600 height=600 />\n",
    "\n",
    "<img src=\"images/mamdani2.png\" width=600 height=600 />"
   ]
  },
  {
   "cell_type": "code",
   "execution_count": 91,
   "id": "d48cf027",
   "metadata": {},
   "outputs": [],
   "source": [
    "def mu4x(x, fuzzy_set):\n",
    "    ml, mr, a, b, h = fuzzy_set.left_mode, fuzzy_set.right_mode, fuzzy_set.alpha, fuzzy_set.beta, fuzzy_set.height\n",
    "    if (x <= ml - a) or (x >= mr + b):\n",
    "        return 0\n",
    "    elif ml <= x <= mr:\n",
    "        return h\n",
    "    elif ml - a < x < ml:\n",
    "        return (x - ml) / a * h + h\n",
    "    else:\n",
    "        return -(x - mr) / b * h + h\n",
    "    \n",
    "    \n",
    "def x4mu(mu, fuzzy_set):\n",
    "    ml, mr, a, b, h = fuzzy_set.left_mode, fuzzy_set.right_mode, fuzzy_set.alpha, fuzzy_set.beta, fuzzy_set.height\n",
    "    if mu == 0:\n",
    "        return None\n",
    "    elif mu == h:\n",
    "        return (ml, mr)\n",
    "    else:\n",
    "        left_x = (mu - h) / h * a + ml\n",
    "        right_x = -(mu - h) / h * b + mr\n",
    "        return (left_x, right_x)"
   ]
  },
  {
   "cell_type": "code",
   "execution_count": 65,
   "id": "a0e36b60",
   "metadata": {},
   "outputs": [],
   "source": [
    "fuzzy_sets = {\n",
    "    \"A1\": fuzzyInterval(100,200,30,40,1),\n",
    "    \"A2\": fuzzyInterval(200,300,20,60,1),\n",
    "    \"B1\": fuzzyInterval(140,240,30,40,1),\n",
    "    \"B2\": fuzzyInterval(240,320,50,40,1),\n",
    "    \"C1\": fuzzyInterval(50,100,10,30,1),\n",
    "    \"C2\": fuzzyInterval(100,150,20,50,1),\n",
    "}"
   ]
  },
  {
   "cell_type": "code",
   "execution_count": 86,
   "id": "9feca95f",
   "metadata": {},
   "outputs": [],
   "source": [
    "x0, y0 = 220, 200"
   ]
  },
  {
   "cell_type": "code",
   "execution_count": 108,
   "id": "5c7b9d65",
   "metadata": {},
   "outputs": [
    {
     "data": {
      "image/png": "[encoded data removed]",
      "text/plain": [
       "<Figure size 1008x432 with 6 Axes>"
      ]
     },
     "metadata": {
      "needs_background": "light"
     },
     "output_type": "display_data"
    }
   ],
   "source": [
    "fig, ax = plt.subplots(2, 3, figsize=(14, 6))\n",
    "\n",
    "mu_a1, mu_b1 = mu4x(x0, fuzzy_sets[\"A1\"]), mu4x(y0, fuzzy_sets[\"B1\"])\n",
    "y_c1 = min(mu_a1, mu_b1)\n",
    "x_c1 = x4mu(x_c1, fuzzy_sets[\"C1\"])\n",
    "\n",
    "\n",
    "mu_a2, mu_b2 = mu4x(x0, fuzzy_sets[\"A2\"]), mu4x(y0, fuzzy_sets[\"B2\"])\n",
    "y_c2 = min(mu_a2, mu_b2)\n",
    "x_c2 = x4mu(x_c2, fuzzy_sets[\"C2\"])\n",
    "\n",
    "\n",
    "\n",
    "plot(ax[0][0], fuzzy_sets[\"A1\"]); ax[0][0].plot([x0, x0], [0, mu_a1])\n",
    "plot(ax[0][1], fuzzy_sets[\"B1\"]); ax[0][1].plot([y0, y0], [0, mu_b1])\n",
    "plot(ax[0][2], fuzzy_sets[\"C1\"]); ax[0][2].plot(x_c1, [y_c1, y_c1])\n",
    "ax[0][0].set_title(\"A1\"); ax[0][1].set_title(\"B1\"); ax[0][2].set_title(\"C1\")\n",
    "\n",
    "plot(ax[1][0], fuzzy_sets[\"A2\"]); ax[1][0].plot([x0, x0], [0, mu_a2])\n",
    "plot(ax[1][1], fuzzy_sets[\"B2\"]); ax[1][1].plot([y0, y0], [0, mu_b2])\n",
    "plot(ax[1][2], fuzzy_sets[\"C2\"]); ax[1][2].plot(x_c2, [y_c2, y_c2])\n",
    "ax[1][0].set_title(\"A2\"); ax[1][1].set_title(\"B2\"); ax[1][2].set_title(\"C2\")\n",
    "\n",
    "plt.show()"
   ]
  },
  {
   "cell_type": "code",
   "execution_count": 109,
   "id": "12395030",
   "metadata": {},
   "outputs": [],
   "source": [
    "C1 = fuzzy_sets[\"C1\"]\n",
    "left, right = x_c1\n",
    "C1_modified = fuzzyInterval(left, right, left - C1.left_mode + C1.alpha, C1.right_mode + C1.beta - right, y_c1)\n",
    "\n",
    "C2 = fuzzy_sets[\"C2\"]\n",
    "left, right = x_c2\n",
    "C2_modified = fuzzyInterval(left, right, left - C2.left_mode + C2.alpha, C2.right_mode + C2.beta - right, y_c2)"
   ]
  },
  {
   "cell_type": "code",
   "execution_count": 111,
   "id": "d18e770c",
   "metadata": {},
   "outputs": [
    {
     "data": {
      "text/plain": [
       "(fuzzyInterval(left_mode=45.0, right_mode=115.0, alpha=5.0, beta=15.0, height=0.5),\n",
       " fuzzyInterval(left_mode=84.0, right_mode=190.0, alpha=4.0, beta=10.0, height=0.19999999999999996))"
      ]
     },
     "execution_count": 111,
     "metadata": {},
     "output_type": "execute_result"
    }
   ],
   "source": [
    "C1_modified, C2_modified"
   ]
  },
  {
   "cell_type": "code",
   "execution_count": 112,
   "id": "1c9b1bfc",
   "metadata": {},
   "outputs": [
    {
     "data": {
      "image/png": "[encoded data removed]",
      "text/plain": [
       "<Figure size 648x288 with 1 Axes>"
      ]
     },
     "metadata": {
      "needs_background": "light"
     },
     "output_type": "display_data"
    }
   ],
   "source": [
    "fig, ax = plt.subplots(figsize=(9, 4))\n",
    "\n",
    "plot(ax, C1_modified)\n",
    "plot(ax, C2_modified)\n",
    "plt.show()"
   ]
  },
  {
   "cell_type": "markdown",
   "id": "05e989de",
   "metadata": {},
   "source": [
    "$Z_0 = \\displaystyle \\frac{\\int_\\underline{z}^\\bar{z} z\\mu_\\theta (z)dz}{\\int_\\underline{z}^\\bar{z} \\mu_\\theta (z)dz}$"
   ]
  },
  {
   "cell_type": "code",
   "execution_count": 115,
   "id": "042478cb",
   "metadata": {},
   "outputs": [
    {
     "data": {
      "text/plain": [
       "124.0"
      ]
     },
     "execution_count": 115,
     "metadata": {},
     "output_type": "execute_result"
    }
   ],
   "source": [
    "intersection_point = x4mu(0.2, C1_modified)[1]\n",
    "intersection_point"
   ]
  },
  {
   "cell_type": "code",
   "execution_count": 117,
   "id": "392437a2",
   "metadata": {},
   "outputs": [
    {
     "data": {
      "text/plain": [
       "53.6"
      ]
     },
     "execution_count": 117,
     "metadata": {},
     "output_type": "execute_result"
    }
   ],
   "source": [
    "# 5 * 0.5 / 2 + (115 - 45) * 0.5 + (0.5 + 0.2) / 2 * (124 - 115) + 0.2 * (190 - 124) + 10 * 0.2 / 2"
   ]
  },
  {
   "cell_type": "code",
   "execution_count": 124,
   "id": "6303d505",
   "metadata": {},
   "outputs": [
    {
     "data": {
      "text/plain": [
       "102.49890858208957"
      ]
     },
     "execution_count": 124,
     "metadata": {},
     "output_type": "execute_result"
    }
   ],
   "source": [
    "# ((115 ** 2 - 45 ** 2) / 4 + (190 ** 2 - 124 ** 2) / 10 + 45 ** 3 / 30 - 40 ** 3 / 30 - 45 ** 2 * 2 + 40 ** 2 * 2 - 0.1 / 9 * 124 ** 3 + 4.333 / 2 * 124 ** 2 + 0.1 /9 * 115 ** 3 - 4.333 / 2 * 115 ** 2 - 2 / 300 * 200 ** 3 + 2 / 300 * 190 ** 3 + 2 * 200 ** 2 - 2 * 190 ** 2)/ 53.6\n",
    "\n"
   ]
  },
  {
   "cell_type": "markdown",
   "id": "7083ba0b",
   "metadata": {},
   "source": [
    "#### Відповідь: $Z_0 = 102.5$"
   ]
  },
  {
   "cell_type": "code",
   "execution_count": null,
   "id": "0dbd6602",
   "metadata": {},
   "outputs": [],
   "source": []
  }
 ],
 "metadata": {
  "kernelspec": {
   "display_name": "Python 3 (ipykernel)",
   "language": "python",
   "name": "python3"
  },
  "language_info": {
   "codemirror_mode": {
    "name": "ipython",
    "version": 3
   },
   "file_extension": ".py",
   "mimetype": "text/x-python",
   "name": "python",
   "nbconvert_exporter": "python",
   "pygments_lexer": "ipython3",
   "version": "3.7.12"
  }
 },
 "nbformat": 4,
 "nbformat_minor": 5
}
