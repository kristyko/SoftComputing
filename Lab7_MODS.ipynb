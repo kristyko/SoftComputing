{
 "cells": [
  {
   "cell_type": "code",
   "execution_count": 103,
   "id": "b39a60f1",
   "metadata": {},
   "outputs": [],
   "source": [
    "import numpy as np\n",
    "from numpy import sin, sqrt, abs\n",
    "from numpy.random import randint, rand, choice\n",
    "from itertools import product\n",
    "\n",
    "%matplotlib inline\n",
    "import matplotlib.pyplot as plt\n",
    "\n",
    "\n",
    "rng = np.random.default_rng()"
   ]
  },
  {
   "cell_type": "code",
   "execution_count": 2,
   "id": "b9e23f28",
   "metadata": {},
   "outputs": [],
   "source": [
    "def rastrigin(x):\n",
    "    # -5.12 <= x_i <= 5.12 for i=1,..,n\n",
    "    # global minimum at f(0,..,0)=0\n",
    "    if isinstance(x, list):\n",
    "        x = np.array(x)\n",
    "    A, n = 10, len(x)\n",
    "    return A * n + np.sum(x ** 2 - A * np.cos(2 * np.pi * x), axis=0)\n",
    "\n",
    "\n",
    "def booth(arg):\n",
    "    # -10 <= x,y <= 10 \n",
    "    # global minimum at f(1,3)=0\n",
    "    x, y = arg\n",
    "    return (x + 2 * y - 7) ** 2 + (2 * x + y - 5) ** 2\n",
    "\n",
    "\n",
    "def eggholder(arg):\n",
    "    # -512 <= x,y <= 512\n",
    "    # global minimum at f(512,404.2319)=-959.6407\n",
    "    x, y = arg\n",
    "    return -(y + 47) * sin(sqrt(abs(x / 2 + y + 47))) - x * sin(sqrt(abs(x-y-47)))\n",
    "\n",
    "\n",
    "functions_data = {\n",
    "    'rastrigin': {\n",
    "        'func': rastrigin, \n",
    "        'bounds': [[-5.12, 5.12], [-5.12, 5.12]], \n",
    "        \"best\": ([0.0, 0.0], 0.0)\n",
    "    },\n",
    "    'booth'    : {\n",
    "        'func': booth,     \n",
    "        'bounds': [[-10, 10], [-10, 10]], \n",
    "        \"best\": ([1, 3], 0.0)\n",
    "    },\n",
    "    'eggholder': {\n",
    "        'func': eggholder, \n",
    "        'bounds': [[-512.0, 512.0], [-512.0, 512.0]], \n",
    "        \"best\": ([512, 404.2319], -959.6407)\n",
    "    },\n",
    "}"
   ]
  },
  {
   "cell_type": "code",
   "execution_count": 250,
   "id": "f6b56481",
   "metadata": {},
   "outputs": [],
   "source": [
    "def generate_points(obj_func, bounds, k):\n",
    "    points = np.random.uniform(size=(k, len(bounds)))\n",
    "    scalers = [right - left for left, right in bounds], [left for left, right in bounds]\n",
    "    scaled_points = points * scalers[0] + scalers[1]\n",
    "    sorted_points = sorted(scaled_points, key=obj_func)  # sort points in acsending order \n",
    "    return np.array(sorted_points)"
   ]
  },
  {
   "cell_type": "markdown",
   "id": "ffe7ca72",
   "metadata": {},
   "source": [
    "# Method of Deformed Stars \n",
    "\n",
    "### (triangular case for 2 dimensuions)\n",
    "\n",
    "<img src=\"images/mods1.png\" width=500 height=500 />\n",
    "<img src=\"images/mods2.png\" width=500 height=500 />\n",
    "\n",
    "Stopping condition\n",
    "<img src=\"images/mods3.png\" width=500 height=500 />"
   ]
  },
  {
   "cell_type": "code",
   "execution_count": 12,
   "id": "06f375ac",
   "metadata": {},
   "outputs": [
    {
     "data": {
      "text/plain": [
       "False"
      ]
     },
     "execution_count": 12,
     "metadata": {},
     "output_type": "execute_result"
    }
   ],
   "source": [
    "def should_stop(pop, func, i, max_iter, eps, delta):\n",
    "    pairs = product()\n",
    "    if (\n",
    "        i >= max_iter or \n",
    "        max([np.linalg.norm(x - y) for x, y in product(func, func)]) < eps or\n",
    "        max([np.linalg.norm(a - b) for a, b in product(pop, pop)]) < delta\n",
    "    ):\n",
    "        return True\n",
    "    return False\n",
    "\n",
    "# should_stop(np.array([[1, 2], [1, 1], [4, 5]]), [0.5, 1, 9], 0, 5, 1, 1)"
   ]
  },
  {
   "cell_type": "code",
   "execution_count": 160,
   "id": "9a7036cf",
   "metadata": {},
   "outputs": [],
   "source": [
    "def select_best(pop, func, k):\n",
    "    F = func(pop.T)\n",
    "    lst = sorted(zip(pop, F), key=lambda x: x[1])\n",
    "    sorted_lst = list(zip(*lst))\n",
    "    best_pop = sorted_lst[0][:k]\n",
    "    best_F = sorted_lst[1][:k]\n",
    "    return np.array(best_pop), list(best_F)\n"
   ]
  },
  {
   "cell_type": "code",
   "execution_count": 126,
   "id": "ea626662",
   "metadata": {},
   "outputs": [],
   "source": [
    "def generate_triangles(pop, n):\n",
    "    return [rng.choice(pop, 3, replace=False) for _ in range(n)] \n"
   ]
  },
  {
   "cell_type": "code",
   "execution_count": 233,
   "id": "3b83aae4",
   "metadata": {},
   "outputs": [],
   "source": [
    "def put_into_rectangle(triangle, bounds):\n",
    "    (lx, rx), (ly, ry) = bounds\n",
    "    corrected_triangle = []\n",
    "    for x, y in triangle:\n",
    "        if x > rx:\n",
    "            x = lx + x - rx\n",
    "        elif x < lx:\n",
    "            x = rx + x - lx\n",
    "        if y > ry:\n",
    "            y = ly + y - ry\n",
    "        elif y < ly:\n",
    "            y = ry + y - ly\n",
    "        corrected_triangle.append([x, y])\n",
    "    return corrected_triangle\n"
   ]
  },
  {
   "cell_type": "code",
   "execution_count": 102,
   "id": "c299e6b8",
   "metadata": {},
   "outputs": [],
   "source": [
    "def get_best(triangle, obj_func):\n",
    "    sorted_p = sorted(triangle, key=obj_func)\n",
    "    return sorted_p[0], sorted_p[1:]\n",
    "\n",
    "\n",
    "def get_center(triangle):\n",
    "    return [sum(triangle[:,0]) / 3, sum(triangle[:, 1]) / 3]\n"
   ]
  },
  {
   "cell_type": "code",
   "execution_count": null,
   "id": "f41e4fc6",
   "metadata": {},
   "outputs": [],
   "source": [
    "def get_center(p):\n",
    "    return [sum(p[:,0]) / 3, sum(p[:, 1]) / 3]"
   ]
  },
  {
   "cell_type": "code",
   "execution_count": 278,
   "id": "80bb4120",
   "metadata": {},
   "outputs": [],
   "source": [
    "def shift(center, best, other):\n",
    "    x0, y0 = center\n",
    "    a = rand()\n",
    "    shifted_best = [((1 + a) * best[0] - a * x0, (1 + a) * best[1] - a * y0)]\n",
    "    shifted_other = [\n",
    "        [(best[0] + a * x) / (1 + a), (best[1] + a * y) / (1 + a)]\n",
    "        for x, y in other\n",
    "    ]\n",
    "    return shifted_best + shifted_other"
   ]
  },
  {
   "cell_type": "code",
   "execution_count": 212,
   "id": "ec76b140",
   "metadata": {},
   "outputs": [],
   "source": [
    "def rotate_around_best(best, other):\n",
    "    alpha = rand() * 2 * np.pi\n",
    "    sin, cos = np.sin(alpha), np.cos(alpha)\n",
    "    x0, y0 = best\n",
    "    return [best] + [\n",
    "            (x0 + (x - x0) * cos - (y - y0) * sin, y0 + (x - x0) * sin + (y - y0) * cos)\n",
    "            for x, y in other\n",
    "        ]\n"
   ]
  },
  {
   "cell_type": "code",
   "execution_count": 214,
   "id": "ceaaa78c",
   "metadata": {},
   "outputs": [],
   "source": [
    "def rotate_around_center(triangle):\n",
    "    alpha = rand() * 360\n",
    "    sin, cos = np.sin(alpha), np.cos(alpha)\n",
    "    x0, y0 = get_center(triangle)\n",
    "    return [\n",
    "        [(x - x0) * cos - (y - y0) * sin + x0, (x - x0) * sin + (y - y0) * cos + y0]\n",
    "        for x, y in triangle\n",
    "    ]"
   ]
  },
  {
   "cell_type": "code",
   "execution_count": 251,
   "id": "efa5f841",
   "metadata": {},
   "outputs": [],
   "source": [
    "def array2set(array):\n",
    "    return set([tuple(el) for el in array])"
   ]
  },
  {
   "cell_type": "code",
   "execution_count": 299,
   "id": "6978ecdb",
   "metadata": {
    "scrolled": true
   },
   "outputs": [],
   "source": [
    "def MODS3(func_name=\"booth\", k=20, n=15, max_iter=100, eps=0.1, delta=0.1):\n",
    "    func, bounds = functions_data[func_name][\"func\"], functions_data[func_name][\"bounds\"]\n",
    "    i = 0\n",
    "    P = generate_points(func, bounds, k)\n",
    "    F = func(P.T)\n",
    "    results = {}\n",
    "    while not should_stop(P, F, i, max_iter, eps, delta):\n",
    "        P_new = array2set(P)\n",
    "        Pz, Ps, Pw = set(), set(), set()\n",
    "        triangles = generate_triangles(P, n)\n",
    "\n",
    "        for triangle in triangles:\n",
    "            best, center = get_best(triangle, func), get_center(triangle)\n",
    "            shifted = put_into_rectangle(shift(center, *best), bounds)\n",
    "            rotated1 = put_into_rectangle(rotate_around_best(*best), bounds)\n",
    "            rotated2 = put_into_rectangle(rotate_around_center(triangle), bounds)\n",
    "            P_new = P_new.union(array2set(shifted), array2set(rotated1), array2set(rotated2))\n",
    "#             Pz = Pz.union(array2set(shifted))\n",
    "#             Ps = Ps.union(array2set(rotated1))\n",
    "#             Pw = Pw.union(array2set(rotated2))\n",
    "#         P_new = np.array(list(P_new.union(Pz, Pw, Ps)))\n",
    "        i += 1\n",
    "        P, F = select_best(np.array(list(P_new)), func, k)\n",
    "        results[i] = [P[0], F[0]]\n",
    "        \n",
    "    return i, results\n"
   ]
  },
  {
   "cell_type": "markdown",
   "id": "8546a336",
   "metadata": {},
   "source": [
    "# Testing"
   ]
  },
  {
   "cell_type": "code",
   "execution_count": 346,
   "id": "edc5c943",
   "metadata": {},
   "outputs": [],
   "source": [
    "def present_results(f_name, i, results):\n",
    "    print(\n",
    "        f\"result: f({results[i][0][0]: .5f}, {results[i][0][1]: .5f}) = {results[i][1]: .5f} \"\n",
    "        f\"(stopped after {i} iterations)\"\n",
    "    )\n",
    "\n",
    "    scores = [res[1] for res in results.values()]\n",
    "    plt.plot(results.keys(), scores, marker=5)\n",
    "    plt.xlabel(\"# Iterations\")\n",
    "    plt.ylabel(\"Optimum\")\n",
    "    plt.title(f_name)\n",
    "    plt.show()"
   ]
  },
  {
   "cell_type": "code",
   "execution_count": 347,
   "id": "2806e553",
   "metadata": {
    "scrolled": false
   },
   "outputs": [
    {
     "name": "stdout",
     "output_type": "stream",
     "text": [
      "result: f( 0.00142, -0.00034) =  0.00042 (stopped after 15 iterations)\n"
     ]
    },
    {
     "data": {
      "image/png": "[encoded data removed]",
      "text/plain": [
       "<Figure size 432x288 with 1 Axes>"
      ]
     },
     "metadata": {
      "needs_background": "light"
     },
     "output_type": "display_data"
    }
   ],
   "source": [
    "i, results = MODS3(func_name=\"rastrigin\", k=20, n=15, eps=0.01, delta=0.01)\n",
    "present_results(\"rastrigin\", i, results)"
   ]
  },
  {
   "cell_type": "code",
   "execution_count": 348,
   "id": "1e8ee846",
   "metadata": {},
   "outputs": [
    {
     "name": "stdout",
     "output_type": "stream",
     "text": [
      "result: f( 1.00152,  2.99771) =  0.00001 (stopped after 5 iterations)\n"
     ]
    },
    {
     "data": {
      "image/png": "[encoded data removed]",
      "text/plain": [
       "<Figure size 432x288 with 1 Axes>"
      ]
     },
     "metadata": {
      "needs_background": "light"
     },
     "output_type": "display_data"
    }
   ],
   "source": [
    "i, results = MODS3(func_name=\"booth\", k=20, n=15, eps=0.01, delta=0.01)\n",
    "present_results(\"booth\", i, results)"
   ]
  },
  {
   "cell_type": "code",
   "execution_count": 351,
   "id": "9f6d63b6",
   "metadata": {},
   "outputs": [
    {
     "name": "stdout",
     "output_type": "stream",
     "text": [
      "result: f( 482.34465,  432.86630) = -956.91781 (stopped after 14 iterations)\n"
     ]
    },
    {
     "data": {
      "image/png": "[encoded data removed]",
      "text/plain": [
       "<Figure size 432x288 with 1 Axes>"
      ]
     },
     "metadata": {
      "needs_background": "light"
     },
     "output_type": "display_data"
    }
   ],
   "source": [
    "i, results = MODS3(func_name=\"eggholder\", k=20, n=30, eps=0.01, delta=0.01)\n",
    "present_results(\"eggholder\", i, results)"
   ]
  },
  {
   "cell_type": "code",
   "execution_count": null,
   "id": "46c33294",
   "metadata": {},
   "outputs": [],
   "source": []
  }
 ],
 "metadata": {
  "kernelspec": {
   "display_name": "Python 3 (ipykernel)",
   "language": "python",
   "name": "python3"
  },
  "language_info": {
   "codemirror_mode": {
    "name": "ipython",
    "version": 3
   },
   "file_extension": ".py",
   "mimetype": "text/x-python",
   "name": "python",
   "nbconvert_exporter": "python",
   "pygments_lexer": "ipython3",
   "version": "3.7.12"
  }
 },
 "nbformat": 4,
 "nbformat_minor": 5
}
