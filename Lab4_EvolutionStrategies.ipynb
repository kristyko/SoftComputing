{
 "cells": [
  {
   "cell_type": "code",
   "execution_count": 1,
   "id": "e29b2216",
   "metadata": {},
   "outputs": [],
   "source": [
    "import numpy as np\n",
    "from numpy import sin, sqrt, abs\n",
    "from numpy.random import randint, rand, choice"
   ]
  },
  {
   "cell_type": "code",
   "execution_count": 2,
   "id": "e79ea284",
   "metadata": {},
   "outputs": [],
   "source": [
    "def rastrigin(x):\n",
    "    # -5.12 <= x_i <= 5.12 for i=1,..,n\n",
    "    # global minimum at f(0,..,0)=0\n",
    "    if isinstance(x, list):\n",
    "        x = np.array(x)\n",
    "    A, n = 10, len(x)\n",
    "    return A * n + np.sum(x ** 2 - A * np.cos(2 * np.pi * x), axis=0)\n",
    "\n",
    "\n",
    "def booth(arg):\n",
    "    # -10 <= x,y <= 10 \n",
    "    # global minimum at f(1,3)=0\n",
    "    x, y = arg\n",
    "    return (x + 2 * y - 7) ** 2 + (2 * x + y - 5) ** 2\n",
    "\n",
    "\n",
    "def eggholder(arg):\n",
    "    # -512 <= x,y <= 512\n",
    "    # global minimum at f(512,404.2319)=-959.6407\n",
    "    x, y = arg\n",
    "    return -(y + 47) * sin(sqrt(abs(x / 2 + y + 47))) - x * sin(sqrt(abs(x-y-47)))\n",
    "\n",
    "\n",
    "functions_data = {\n",
    "    'rastrigin': {'func': rastrigin, 'bounds': [[-5.12, 5.12], [-5.12, 5.12]], \"best\": ([0.0, 0.0], 0.0)},\n",
    "    'booth'    : {'func': booth,     'bounds': [[-10, 10], [-10, 10]], \"best\": ([1, 3], 0.0)},\n",
    "    'eggholder': {'func': eggholder, 'bounds': [[-512.0, 512.0], [-512.0, 512.0]], \"best\": ([512, 404.2319], -959.6407)},\n",
    "}"
   ]
  },
  {
   "cell_type": "code",
   "execution_count": 3,
   "id": "5172008a",
   "metadata": {},
   "outputs": [],
   "source": [
    "def generate_points(obj_func, bounds, k):\n",
    "    points = np.random.uniform(size=(k, len(bounds)))\n",
    "    scalers = [right - left for left, right in bounds], [left for left, right in bounds]\n",
    "    scaled_points = points * scalers[0] + scalers[1]\n",
    "    return sorted(scaled_points, key=obj_func)   # sort points in acsending order "
   ]
  },
  {
   "cell_type": "markdown",
   "id": "d1a0d7ad",
   "metadata": {},
   "source": [
    "# Evolution Strategies"
   ]
  },
  {
   "cell_type": "code",
   "execution_count": 4,
   "id": "3a4a793e",
   "metadata": {},
   "outputs": [],
   "source": [
    "def get_offsprings(pop, sigma, k, bounds):\n",
    "    offsprings = []\n",
    "    for p in pop:\n",
    "        i = 0\n",
    "        while i < k: \n",
    "            el = p + np.random.normal(0, sigma, size=len(p))\n",
    "            # we should check that values are in appropriate bounds\n",
    "            if all([left < x < right for (left, right), x in zip(bounds, el)]):\n",
    "                i += 1\n",
    "                offsprings.append(el)\n",
    "    return np.array(offsprings)\n"
   ]
  },
  {
   "cell_type": "code",
   "execution_count": 5,
   "id": "dde9017d",
   "metadata": {},
   "outputs": [],
   "source": [
    "def next_gen(pop, offsprings, obj_func, lmd, strategy):\n",
    "    if strategy == \"plus\":\n",
    "        next_generation = np.vstack((pop, offsprings))\n",
    "    if strategy == \"comma\":\n",
    "        next_generation = offsprings\n",
    "    res = sorted(next_generation, key=obj_func)\n",
    "    return np.array(res[:lmd])"
   ]
  },
  {
   "cell_type": "code",
   "execution_count": 19,
   "id": "5d7a1f5c",
   "metadata": {},
   "outputs": [],
   "source": [
    "# the strategy with checking whether the points are not far away from each other\n",
    "# has not proven to be effective\n",
    "def should_stop(func, pop, eps = 0.1, rate=0.85):\n",
    "    scores = [func(p) for p in pop]\n",
    "    best_score = scores[0]\n",
    "    diff = [abs(score - best_score) < eps for score in scores]\n",
    "    return np.count_nonzero(diff) / len(diff) >= rate"
   ]
  },
  {
   "cell_type": "markdown",
   "id": "26530aa5",
   "metadata": {},
   "source": [
    "## $(\\mu, \\lambda)$-ES or  $(\\mu+\\lambda)$-ES"
   ]
  },
  {
   "cell_type": "code",
   "execution_count": 7,
   "id": "16ba3915",
   "metadata": {},
   "outputs": [],
   "source": [
    "def evolution_strategy(objective, sigma=20, lmd=20, mu=7, strategy=\"plus\", eps=0.1, n_iter=10000, rate=0.5):\n",
    "    data = functions_data.get(objective)\n",
    "    if not data:\n",
    "        return \"Unknown function\"\n",
    "    obj_func, bounds = data[\"func\"], data[\"bounds\"]\n",
    "    population = generate_points(obj_func, bounds, lmd)\n",
    "    i = 0\n",
    "    while not should_stop(obj_func, population, eps, rate) and i < n_iter:\n",
    "        offsprings = get_offsprings(population, sigma, mu, bounds)\n",
    "        population = next_gen(population, offsprings, obj_func, lmd, strategy)\n",
    "        i += 1\n",
    "    return i, population[0], obj_func(population[0])\n"
   ]
  },
  {
   "cell_type": "markdown",
   "id": "951fcb8f",
   "metadata": {},
   "source": [
    "#### Check strategies for Rastrigin function"
   ]
  },
  {
   "cell_type": "code",
   "execution_count": 8,
   "id": "dc354e63",
   "metadata": {},
   "outputs": [
    {
     "name": "stdout",
     "output_type": "stream",
     "text": [
      "Optimum: [0.0, 0.0], value: 0.0\n"
     ]
    }
   ],
   "source": [
    "func_name, n = \"rastrigin\", 10\n",
    "best = functions_data[func_name][\"best\"]\n",
    "print(f\"Optimum: {best[0]}, value: {best[1]}\")"
   ]
  },
  {
   "cell_type": "markdown",
   "id": "68bb0052",
   "metadata": {},
   "source": [
    "##### $(\\mu + \\lambda)$ - ES"
   ]
  },
  {
   "cell_type": "code",
   "execution_count": 18,
   "id": "5c203a1b",
   "metadata": {
    "scrolled": true
   },
   "outputs": [
    {
     "name": "stdout",
     "output_type": "stream",
     "text": [
      "σ = 0.5\n",
      "Average   iteration: 169 , avg_point: (-0.0008,  0.0011), avg_value: 0.0100\n",
      "\n",
      "σ = 1\n",
      "Average   iteration: 491 , avg_point: (-0.0013, -0.0045), avg_value: 0.0075\n",
      "\n",
      "σ = 2.23606797749979\n",
      "Average   iteration: 2294, avg_point: ( 0.0001, -0.0004), avg_value: 0.0040\n",
      "\n"
     ]
    }
   ],
   "source": [
    "n, lmd, mu, strategy, eps = 5, 20, 7, \"plus\", 0.1\n",
    "\n",
    "results = []\n",
    "for sigma in [0.5, 1, np.sqrt(5)]:\n",
    "    print(f\"\\u03C3 = {sigma}\")\n",
    "    avg_iter, avg_point, avg_score = 0, np.zeros((2,)), 0\n",
    "    for i in range(n):\n",
    "        res = evolution_strategy(func_name, sigma=sigma, lmd=lmd, mu=mu, strategy=strategy, eps=eps)\n",
    "        results.append(res)\n",
    "        avg_iter += res[0]\n",
    "        avg_point += res[1]\n",
    "        avg_score += res[2]\n",
    "#         print(f\"iteration: {res[0]:<4d}, point: ({res[1][0]: .4f}, {res[1][1]: .4f}), value: {res[2]:<.4f}\")\n",
    "    print(f\"Average   iteration: {int(avg_iter / n):<4d}, avg_point: ({avg_point[0] / n: .4f}, {avg_point[1] / n: .4f}), avg_value: {avg_score / n:<.4f}\\n\")\n"
   ]
  },
  {
   "cell_type": "code",
   "execution_count": 19,
   "id": "caad7b6a",
   "metadata": {
    "scrolled": false
   },
   "outputs": [
    {
     "name": "stdout",
     "output_type": "stream",
     "text": [
      "μ = 3\n",
      "Average   iteration: 312 , avg_point: (-0.0011,  0.0003), avg_value: 0.0055\n",
      "\n",
      "μ = 7\n",
      "Average   iteration: 138 , avg_point: ( 0.0005, -0.0007), avg_value: 0.0074\n",
      "\n",
      "μ = 15\n",
      "Average   iteration: 67  , avg_point: (-0.0008,  0.0004), avg_value: 0.0063\n",
      "\n"
     ]
    }
   ],
   "source": [
    "n, sigma, lmd, strategy, eps = 10, 0.5, 20, \"plus\", 0.1\n",
    "\n",
    "results = []\n",
    "for mu in [3, 7, 15]:\n",
    "    print(f\"\\u03BC = {mu}\")\n",
    "    avg_iter, avg_point, avg_score = 0, np.zeros((2,)), 0\n",
    "    for i in range(n):\n",
    "        res = evolution_strategy(func_name, sigma=sigma, lmd=lmd, mu=mu, strategy=strategy, eps=eps)\n",
    "        results.append(res)\n",
    "        avg_iter += res[0]\n",
    "        avg_point += res[1]\n",
    "        avg_score += res[2]\n",
    "#         print(f\"iteration: {res[0]:<4d}, point: ({res[1][0]: .4f}, {res[1][1]: .4f}), value: {res[2]:<.4f}\")\n",
    "    print(f\"Average   iteration: {int(avg_iter / n):<4d}, avg_point: ({avg_point[0] / n: .4f}, {avg_point[1] / n: .4f}), avg_value: {avg_score / n:<.4f}\\n\")"
   ]
  },
  {
   "cell_type": "code",
   "execution_count": 20,
   "id": "073afc77",
   "metadata": {},
   "outputs": [
    {
     "name": "stdout",
     "output_type": "stream",
     "text": [
      "λ = 10\n",
      "Average   iteration: 122 , avg_point: ( 0.0002, -0.0010), avg_value: 0.0082\n",
      "\n",
      "λ = 20\n",
      "Average   iteration: 141 , avg_point: (-0.0004,  0.0010), avg_value: 0.0052\n",
      "\n",
      "λ = 50\n",
      "Average   iteration: 127 , avg_point: ( 0.0001,  0.0003), avg_value: 0.0025\n",
      "\n"
     ]
    }
   ],
   "source": [
    "n, sigma, mu, strategy, eps = 10, 0.5, 7, \"plus\", 0.1\n",
    "\n",
    "results = []\n",
    "for lmd in [10, 20, 50]:\n",
    "    print(f\"\\u03BB = {lmd}\")\n",
    "    avg_iter, avg_point, avg_score = 0, np.zeros((2,)), 0\n",
    "    for i in range(n):\n",
    "        res = evolution_strategy(func_name, sigma=sigma, lmd=lmd, mu=mu, strategy=strategy, eps=eps)\n",
    "        results.append(res)\n",
    "        avg_iter += res[0]\n",
    "        avg_point += res[1]\n",
    "        avg_score += res[2]\n",
    "#         print(f\"iteration: {res[0]:<4d}, point: ({res[1][0]: .4f}, {res[1][1]: .4f}), value: {res[2]:<.4f}\")\n",
    "    print(f\"Average   iteration: {int(avg_iter / n):<4d}, avg_point: ({avg_point[0] / n: .4f}, {avg_point[1] / n: .4f}), avg_value: {avg_score / n:<.4f}\\n\")"
   ]
  },
  {
   "cell_type": "markdown",
   "id": "2fb0e781",
   "metadata": {},
   "source": [
    "##### $(\\mu, \\lambda)$ - ES"
   ]
  },
  {
   "cell_type": "code",
   "execution_count": 21,
   "id": "9309d1d7",
   "metadata": {
    "scrolled": false
   },
   "outputs": [
    {
     "name": "stdout",
     "output_type": "stream",
     "text": [
      "σ = 0.1\n",
      "Average   iteration: 6   , avg_point: (-0.5945, -0.0016), avg_value: 1.4055\n",
      "\n",
      "σ = 0.3\n",
      "Average   iteration: 1000, avg_point: (-0.0043,  0.0061), avg_value: 0.2138\n",
      "\n",
      "σ = 0.5\n",
      "Average   iteration: 1000, avg_point: ( 0.0093, -0.1755), avg_value: 0.6321\n",
      "\n"
     ]
    }
   ],
   "source": [
    "n, lmd, mu, strategy, eps, n_iter = 5, 20, 15, \"comma\", 0.2, 1000\n",
    "\n",
    "results = []\n",
    "for sigma in [0.1, 0.3, 0.5]:\n",
    "    print(f\"\\u03C3 = {sigma}\")\n",
    "    avg_iter, avg_point, avg_score = 0, np.zeros((2,)), 0\n",
    "    for i in range(n):\n",
    "        res = evolution_strategy(func_name, sigma=sigma, lmd=lmd, mu=mu, strategy=strategy, eps=eps, n_iter=n_iter)\n",
    "        results.append(res)\n",
    "        avg_iter += res[0]\n",
    "        avg_point += res[1]\n",
    "        avg_score += res[2]\n",
    "#         print(f\"iteration: {res[0]:<4d}, point: ({res[1][0]: .4f}, {res[1][1]: .4f}), value: {res[2]:<.4f}\")\n",
    "    print(f\"Average   iteration: {int(avg_iter / n):<4d}, avg_point: ({avg_point[0] / n: .4f}, {avg_point[1] / n: .4f}), avg_value: {avg_score / n:<.4f}\\n\")\n"
   ]
  },
  {
   "cell_type": "code",
   "execution_count": 23,
   "id": "bc8e8548",
   "metadata": {
    "scrolled": false
   },
   "outputs": [
    {
     "name": "stdout",
     "output_type": "stream",
     "text": [
      "μ = 3\n",
      "Average   iteration: 1000, avg_point: ( 0.3962, -0.3065), avg_value: 1.8255\n",
      "\n",
      "μ = 7\n",
      "Average   iteration: 1000, avg_point: (-0.0005,  0.0900), avg_value: 0.4283\n",
      "\n",
      "μ = 15\n",
      "Average   iteration: 1000, avg_point: ( 0.0032, -0.0115), avg_value: 0.0767\n",
      "\n"
     ]
    }
   ],
   "source": [
    "n, sigma, lmd, strategy, eps, n_iter = 10, 0.3, 20, \"comma\", 0.2, 1000\n",
    "\n",
    "results = []\n",
    "for mu in [3, 7, 15]:\n",
    "    print(f\"\\u03BC = {mu}\")\n",
    "    avg_iter, avg_point, avg_score = 0, np.zeros((2,)), 0\n",
    "    for i in range(n):\n",
    "        res = evolution_strategy(func_name, sigma=sigma, lmd=lmd, mu=mu, strategy=strategy, eps=eps, n_iter=n_iter)\n",
    "        results.append(res)\n",
    "        avg_iter += res[0]\n",
    "        avg_point += res[1]\n",
    "        avg_score += res[2]\n",
    "#         print(f\"iteration: {res[0]:<4d}, point: ({res[1][0]: .4f}, {res[1][1]: .4f}), value: {res[2]:<.4f}\")\n",
    "    print(f\"Average   iteration: {int(avg_iter / n):<4d}, avg_point: ({avg_point[0] / n: .4f}, {avg_point[1] / n: .4f}), avg_value: {avg_score / n:<.4f}\\n\")"
   ]
  },
  {
   "cell_type": "code",
   "execution_count": 24,
   "id": "53dec540",
   "metadata": {},
   "outputs": [
    {
     "name": "stdout",
     "output_type": "stream",
     "text": [
      "λ = 10\n",
      "Average   iteration: 1000, avg_point: (-0.0033,  0.0050), avg_value: 0.1982\n",
      "\n",
      "λ = 20\n",
      "Average   iteration: 1000, avg_point: ( 0.0023,  0.0036), avg_value: 0.0945\n",
      "\n",
      "λ = 50\n",
      "Average   iteration: 1000, avg_point: ( 0.0009,  0.0054), avg_value: 0.0445\n",
      "\n"
     ]
    }
   ],
   "source": [
    "n, sigma, mu, strategy, eps, n_iter = 10, 0.3, 15, \"comma\", 0.2, 1000\n",
    "\n",
    "results = []\n",
    "for lmd in [10, 20, 50]:\n",
    "    print(f\"\\u03BB = {lmd}\")\n",
    "    avg_iter, avg_point, avg_score = 0, np.zeros((2,)), 0\n",
    "    for i in range(n):\n",
    "        res = evolution_strategy(func_name, sigma=sigma, lmd=lmd, mu=mu, strategy=strategy, eps=eps, n_iter=n_iter)\n",
    "        results.append(res)\n",
    "        avg_iter += res[0]\n",
    "        avg_point += res[1]\n",
    "        avg_score += res[2]\n",
    "#         print(f\"iteration: {res[0]:<4d}, point: ({res[1][0]: .4f}, {res[1][1]: .4f}), value: {res[2]:<.4f}\")\n",
    "    print(f\"Average   iteration: {int(avg_iter / n):<4d}, avg_point: ({avg_point[0] / n: .4f}, {avg_point[1] / n: .4f}), avg_value: {avg_score / n:<.4f}\\n\")"
   ]
  },
  {
   "cell_type": "markdown",
   "id": "94a81305",
   "metadata": {},
   "source": [
    "### Check stategies for Booth function"
   ]
  },
  {
   "cell_type": "code",
   "execution_count": 8,
   "id": "7e54d2a3",
   "metadata": {},
   "outputs": [
    {
     "name": "stdout",
     "output_type": "stream",
     "text": [
      "Optimum: [1, 3], value: 0.0\n"
     ]
    }
   ],
   "source": [
    "func_name = \"booth\"\n",
    "best = functions_data[func_name][\"best\"]\n",
    "print(f\"Optimum: {best[0]}, value: {best[1]}\")"
   ]
  },
  {
   "cell_type": "markdown",
   "id": "b1789fcc",
   "metadata": {},
   "source": [
    "##### $(\\mu + \\lambda)$ - ES"
   ]
  },
  {
   "cell_type": "code",
   "execution_count": 26,
   "id": "70913044",
   "metadata": {
    "scrolled": false
   },
   "outputs": [
    {
     "name": "stdout",
     "output_type": "stream",
     "text": [
      "σ = 0.5\n",
      "Average   iteration: 5   , avg_point: ( 0.9884,  3.0167), avg_value: 0.0042\n",
      "\n",
      "σ = 1\n",
      "Average   iteration: 11  , avg_point: ( 0.9983,  3.0052), avg_value: 0.0053\n",
      "\n",
      "σ = 2.23606797749979\n",
      "Average   iteration: 35  , avg_point: ( 0.9888,  3.0161), avg_value: 0.0046\n",
      "\n"
     ]
    }
   ],
   "source": [
    "n, lmd, mu, strategy, eps = 5, 20, 7, \"plus\", 0.1\n",
    "\n",
    "results = []\n",
    "for sigma in [0.5, 1, np.sqrt(5)]:\n",
    "    print(f\"\\u03C3 = {sigma}\")\n",
    "    avg_iter, avg_point, avg_score = 0, np.zeros((2,)), 0\n",
    "    for i in range(n):\n",
    "        res = evolution_strategy(func_name, sigma=sigma, lmd=lmd, mu=mu, strategy=strategy, eps=eps)\n",
    "        results.append(res)\n",
    "        avg_iter += res[0]\n",
    "        avg_point += res[1]\n",
    "        avg_score += res[2]\n",
    "#         print(f\"iteration: {res[0]:<4d}, point: ({res[1][0]: .4f}, {res[1][1]: .4f}), value: {res[2]:<.4f}\")\n",
    "    print(f\"Average   iteration: {int(avg_iter / n):<4d}, avg_point: ({avg_point[0] / n: .4f}, {avg_point[1] / n: .4f}), avg_value: {avg_score / n:<.4f}\\n\")\n"
   ]
  },
  {
   "cell_type": "code",
   "execution_count": 27,
   "id": "83896d68",
   "metadata": {
    "scrolled": false
   },
   "outputs": [
    {
     "name": "stdout",
     "output_type": "stream",
     "text": [
      "μ = 3\n",
      "Average   iteration: 12  , avg_point: ( 1.0008,  2.9925), avg_value: 0.0048\n",
      "\n",
      "μ = 7\n",
      "Average   iteration: 6   , avg_point: ( 0.9965,  3.0102), avg_value: 0.0051\n",
      "\n",
      "μ = 15\n",
      "Average   iteration: 4   , avg_point: ( 1.0173,  2.9910), avg_value: 0.0027\n",
      "\n"
     ]
    }
   ],
   "source": [
    "n, sigma, lmd, strategy, eps = 10, 0.5, 20, \"plus\", 0.1\n",
    "\n",
    "results = []\n",
    "for mu in [3, 7, 15]:\n",
    "    print(f\"\\u03BC = {mu}\")\n",
    "    avg_iter, avg_point, avg_score = 0, np.zeros((2,)), 0\n",
    "    for i in range(n):\n",
    "        res = evolution_strategy(func_name, sigma=sigma, lmd=lmd, mu=mu, strategy=strategy, eps=eps)\n",
    "        results.append(res)\n",
    "        avg_iter += res[0]\n",
    "        avg_point += res[1]\n",
    "        avg_score += res[2]\n",
    "#         print(f\"iteration: {res[0]:<4d}, point: ({res[1][0]: .4f}, {res[1][1]: .4f}), value: {res[2]:<.4f}\")\n",
    "    print(f\"Average   iteration: {int(avg_iter / n):<4d}, avg_point: ({avg_point[0] / n: .4f}, {avg_point[1] / n: .4f}), avg_value: {avg_score / n:<.4f}\\n\")"
   ]
  },
  {
   "cell_type": "code",
   "execution_count": 28,
   "id": "9d3e8881",
   "metadata": {},
   "outputs": [
    {
     "name": "stdout",
     "output_type": "stream",
     "text": [
      "λ = 10\n",
      "Average   iteration: 26  , avg_point: ( 1.0086,  2.9941), avg_value: 0.0016\n",
      "\n",
      "λ = 20\n",
      "Average   iteration: 25  , avg_point: ( 1.0060,  2.9951), avg_value: 0.0004\n",
      "\n",
      "λ = 50\n",
      "Average   iteration: 21  , avg_point: ( 0.9961,  3.0041), avg_value: 0.0002\n",
      "\n"
     ]
    }
   ],
   "source": [
    "n, sigma, mu, strategy, eps = 10, 0.5, 7, \"plus\", 0.01\n",
    "\n",
    "results = []\n",
    "for lmd in [10, 20, 50]:\n",
    "    print(f\"\\u03BB = {lmd}\")\n",
    "    avg_iter, avg_point, avg_score = 0, np.zeros((2,)), 0\n",
    "    for i in range(n):\n",
    "        res = evolution_strategy(func_name, sigma=sigma, lmd=lmd, mu=mu, strategy=strategy, eps=eps)\n",
    "        results.append(res)\n",
    "        avg_iter += res[0]\n",
    "        avg_point += res[1]\n",
    "        avg_score += res[2]\n",
    "#         print(f\"iteration: {res[0]:<4d}, point: ({res[1][0]: .4f}, {res[1][1]: .4f}), value: {res[2]:<.4f}\")\n",
    "    print(f\"Average   iteration: {int(avg_iter / n):<4d}, avg_point: ({avg_point[0] / n: .4f}, {avg_point[1] / n: .4f}), avg_value: {avg_score / n:<.4f}\\n\")"
   ]
  },
  {
   "cell_type": "markdown",
   "id": "2ff0323f",
   "metadata": {},
   "source": [
    "##### $(\\mu, \\lambda)$ - ES"
   ]
  },
  {
   "cell_type": "code",
   "execution_count": 9,
   "id": "5567633f",
   "metadata": {
    "scrolled": false
   },
   "outputs": [
    {
     "name": "stdout",
     "output_type": "stream",
     "text": [
      "σ = 0.5\n",
      "Average   iteration: 54  , avg_point: ( 0.9568,  3.0411), avg_value: 0.0128\n",
      "\n",
      "σ = 1\n",
      "Average   iteration: 10000, avg_point: ( 1.0246,  2.9524), avg_value: 0.0502\n",
      "\n",
      "σ = 2.23606797749979\n",
      "Average   iteration: 10000, avg_point: ( 1.0148,  3.0517), avg_value: 0.0706\n",
      "\n"
     ]
    }
   ],
   "source": [
    "n, lmd, mu, strategy, eps, rate = 5, 20, 7, \"comma\", 0.1, 0.7\n",
    "\n",
    "results = []\n",
    "for sigma in [0.5, 1, np.sqrt(5)]:\n",
    "    print(f\"\\u03C3 = {sigma}\")\n",
    "    avg_iter, avg_point, avg_score = 0, np.zeros((2,)), 0\n",
    "    for i in range(n):\n",
    "        res = evolution_strategy(func_name, sigma=sigma, lmd=lmd, mu=mu, strategy=strategy, eps=eps, rate=rate)\n",
    "        results.append(res)\n",
    "        avg_iter += res[0]\n",
    "        avg_point += res[1]\n",
    "        avg_score += res[2]\n",
    "#         print(f\"iteration: {res[0]:<4d}, point: ({res[1][0]: .4f}, {res[1][1]: .4f}), value: {res[2]:<.4f}\")\n",
    "    print(f\"Average   iteration: {int(avg_iter / n):<4d}, avg_point: ({avg_point[0] / n: .4f}, {avg_point[1] / n: .4f}), avg_value: {avg_score / n:<.4f}\\n\")\n"
   ]
  },
  {
   "cell_type": "code",
   "execution_count": 11,
   "id": "3b7ae540",
   "metadata": {
    "scrolled": false
   },
   "outputs": [
    {
     "name": "stdout",
     "output_type": "stream",
     "text": [
      "μ = 3\n",
      "Average   iteration: 10000, avg_point: ( 0.9782,  3.0084), avg_value: 0.0307\n",
      "\n",
      "μ = 7\n",
      "Average   iteration: 42  , avg_point: ( 1.0223,  2.9959), avg_value: 0.0147\n",
      "\n",
      "μ = 15\n",
      "Average   iteration: 5   , avg_point: ( 1.0073,  2.9931), avg_value: 0.0047\n",
      "\n"
     ]
    }
   ],
   "source": [
    "n, sigma, lmd, strategy, eps, rate = 10, 0.5, 20, \"comma\", 0.1, 0.7\n",
    "\n",
    "results = []\n",
    "for mu in [3, 7, 15]:\n",
    "    print(f\"\\u03BC = {mu}\")\n",
    "    avg_iter, avg_point, avg_score = 0, np.zeros((2,)), 0\n",
    "    for i in range(n):\n",
    "        res = evolution_strategy(func_name, sigma=sigma, lmd=lmd, mu=mu, strategy=strategy, eps=eps, rate=rate)\n",
    "        results.append(res)\n",
    "        avg_iter += res[0]\n",
    "        avg_point += res[1]\n",
    "        avg_score += res[2]\n",
    "#         print(f\"iteration: {res[0]:<4d}, point: ({res[1][0]: .4f}, {res[1][1]: .4f}), value: {res[2]:<.4f}\")\n",
    "    print(f\"Average   iteration: {int(avg_iter / n):<4d}, avg_point: ({avg_point[0] / n: .4f}, {avg_point[1] / n: .4f}), avg_value: {avg_score / n:<.4f}\\n\")"
   ]
  },
  {
   "cell_type": "code",
   "execution_count": 12,
   "id": "7a956c16",
   "metadata": {},
   "outputs": [
    {
     "name": "stdout",
     "output_type": "stream",
     "text": [
      "λ = 10\n",
      "Average   iteration: 6   , avg_point: ( 1.0515,  2.9918), avg_value: 0.0421\n",
      "\n",
      "λ = 20\n",
      "Average   iteration: 8   , avg_point: ( 0.9389,  3.0336), avg_value: 0.0142\n",
      "\n",
      "λ = 50\n",
      "Average   iteration: 15  , avg_point: ( 1.0249,  2.9845), avg_value: 0.0057\n",
      "\n"
     ]
    }
   ],
   "source": [
    "n, sigma, mu, strategy, eps, rate = 5, 0.5, 7, \"comma\", 0.1, 0.7\n",
    "\n",
    "results = []\n",
    "for lmd in [10, 20, 50]:\n",
    "    print(f\"\\u03BB = {lmd}\")\n",
    "    avg_iter, avg_point, avg_score = 0, np.zeros((2,)), 0\n",
    "    for i in range(n):\n",
    "        res = evolution_strategy(func_name, sigma=sigma, lmd=lmd, mu=mu, strategy=strategy, eps=eps)\n",
    "        results.append(res)\n",
    "        avg_iter += res[0]\n",
    "        avg_point += res[1]\n",
    "        avg_score += res[2]\n",
    "#         print(f\"iteration: {res[0]:<4d}, point: ({res[1][0]: .4f}, {res[1][1]: .4f}), value: {res[2]:<.4f}\")\n",
    "    print(f\"Average   iteration: {int(avg_iter / n):<4d}, avg_point: ({avg_point[0] / n: .4f}, {avg_point[1] / n: .4f}), avg_value: {avg_score / n:<.4f}\\n\")"
   ]
  },
  {
   "cell_type": "markdown",
   "id": "2f94c61e",
   "metadata": {},
   "source": [
    "### Check strategies for Eggholder function"
   ]
  },
  {
   "cell_type": "code",
   "execution_count": 13,
   "id": "ca23a659",
   "metadata": {},
   "outputs": [
    {
     "name": "stdout",
     "output_type": "stream",
     "text": [
      "Optimum: [512, 404.2319], value: -959.6407\n"
     ]
    }
   ],
   "source": [
    "func_name, n = \"eggholder\", 10\n",
    "best = functions_data[func_name][\"best\"]\n",
    "print(f\"Optimum: {best[0]}, value: {best[1]}\")"
   ]
  },
  {
   "cell_type": "markdown",
   "id": "3a3ea0cf",
   "metadata": {},
   "source": [
    "##### $(\\mu + \\lambda)$ - ES"
   ]
  },
  {
   "cell_type": "code",
   "execution_count": 25,
   "id": "fced5571",
   "metadata": {
    "scrolled": false
   },
   "outputs": [
    {
     "name": "stdout",
     "output_type": "stream",
     "text": [
      "σ = 1\n",
      "Average   iteration: 29  , avg_point: ( 248.5841,  445.1919), avg_value: -922.2244\n",
      "\n",
      "σ = 5\n"
     ]
    },
    {
     "ename": "KeyboardInterrupt",
     "evalue": "",
     "output_type": "error",
     "traceback": [
      "\u001b[0;31m---------------------------------------------------------------------------\u001b[0m",
      "\u001b[0;31mKeyboardInterrupt\u001b[0m                         Traceback (most recent call last)",
      "\u001b[0;32m/var/folders/xh/nx22b3w92vjcf5w4dtnzkl300000gr/T/ipykernel_54635/4166646320.py\u001b[0m in \u001b[0;36m<module>\u001b[0;34m\u001b[0m\n\u001b[1;32m      6\u001b[0m     \u001b[0mavg_iter\u001b[0m\u001b[0;34m,\u001b[0m \u001b[0mavg_point\u001b[0m\u001b[0;34m,\u001b[0m \u001b[0mavg_score\u001b[0m \u001b[0;34m=\u001b[0m \u001b[0;36m0\u001b[0m\u001b[0;34m,\u001b[0m \u001b[0mnp\u001b[0m\u001b[0;34m.\u001b[0m\u001b[0mzeros\u001b[0m\u001b[0;34m(\u001b[0m\u001b[0;34m(\u001b[0m\u001b[0;36m2\u001b[0m\u001b[0;34m,\u001b[0m\u001b[0;34m)\u001b[0m\u001b[0;34m)\u001b[0m\u001b[0;34m,\u001b[0m \u001b[0;36m0\u001b[0m\u001b[0;34m\u001b[0m\u001b[0;34m\u001b[0m\u001b[0m\n\u001b[1;32m      7\u001b[0m     \u001b[0;32mfor\u001b[0m \u001b[0mi\u001b[0m \u001b[0;32min\u001b[0m \u001b[0mrange\u001b[0m\u001b[0;34m(\u001b[0m\u001b[0mn\u001b[0m\u001b[0;34m)\u001b[0m\u001b[0;34m:\u001b[0m\u001b[0;34m\u001b[0m\u001b[0;34m\u001b[0m\u001b[0m\n\u001b[0;32m----> 8\u001b[0;31m         \u001b[0mres\u001b[0m \u001b[0;34m=\u001b[0m \u001b[0mevolution_strategy\u001b[0m\u001b[0;34m(\u001b[0m\u001b[0mfunc_name\u001b[0m\u001b[0;34m,\u001b[0m \u001b[0msigma\u001b[0m\u001b[0;34m=\u001b[0m\u001b[0msigma\u001b[0m\u001b[0;34m,\u001b[0m \u001b[0mlmd\u001b[0m\u001b[0;34m=\u001b[0m\u001b[0mlmd\u001b[0m\u001b[0;34m,\u001b[0m \u001b[0mmu\u001b[0m\u001b[0;34m=\u001b[0m\u001b[0mmu\u001b[0m\u001b[0;34m,\u001b[0m \u001b[0mstrategy\u001b[0m\u001b[0;34m=\u001b[0m\u001b[0mstrategy\u001b[0m\u001b[0;34m,\u001b[0m \u001b[0meps\u001b[0m\u001b[0;34m=\u001b[0m\u001b[0meps\u001b[0m\u001b[0;34m,\u001b[0m \u001b[0mrate\u001b[0m\u001b[0;34m=\u001b[0m\u001b[0mrate\u001b[0m\u001b[0;34m)\u001b[0m\u001b[0;34m\u001b[0m\u001b[0;34m\u001b[0m\u001b[0m\n\u001b[0m\u001b[1;32m      9\u001b[0m         \u001b[0mresults\u001b[0m\u001b[0;34m.\u001b[0m\u001b[0mappend\u001b[0m\u001b[0;34m(\u001b[0m\u001b[0mres\u001b[0m\u001b[0;34m)\u001b[0m\u001b[0;34m\u001b[0m\u001b[0;34m\u001b[0m\u001b[0m\n\u001b[1;32m     10\u001b[0m         \u001b[0mavg_iter\u001b[0m \u001b[0;34m+=\u001b[0m \u001b[0mres\u001b[0m\u001b[0;34m[\u001b[0m\u001b[0;36m0\u001b[0m\u001b[0;34m]\u001b[0m\u001b[0;34m\u001b[0m\u001b[0;34m\u001b[0m\u001b[0m\n",
      "\u001b[0;32m/var/folders/xh/nx22b3w92vjcf5w4dtnzkl300000gr/T/ipykernel_54635/4210730630.py\u001b[0m in \u001b[0;36mevolution_strategy\u001b[0;34m(objective, sigma, lmd, mu, strategy, eps, n_iter, rate)\u001b[0m\n\u001b[1;32m      8\u001b[0m     \u001b[0;32mwhile\u001b[0m \u001b[0;32mnot\u001b[0m \u001b[0mshould_stop\u001b[0m\u001b[0;34m(\u001b[0m\u001b[0mobj_func\u001b[0m\u001b[0;34m,\u001b[0m \u001b[0mpopulation\u001b[0m\u001b[0;34m,\u001b[0m \u001b[0meps\u001b[0m\u001b[0;34m,\u001b[0m \u001b[0mrate\u001b[0m\u001b[0;34m)\u001b[0m \u001b[0;32mand\u001b[0m \u001b[0mi\u001b[0m \u001b[0;34m<\u001b[0m \u001b[0mn_iter\u001b[0m\u001b[0;34m:\u001b[0m\u001b[0;34m\u001b[0m\u001b[0;34m\u001b[0m\u001b[0m\n\u001b[1;32m      9\u001b[0m         \u001b[0moffsprings\u001b[0m \u001b[0;34m=\u001b[0m \u001b[0mget_offsprings\u001b[0m\u001b[0;34m(\u001b[0m\u001b[0mpopulation\u001b[0m\u001b[0;34m,\u001b[0m \u001b[0msigma\u001b[0m\u001b[0;34m,\u001b[0m \u001b[0mmu\u001b[0m\u001b[0;34m,\u001b[0m \u001b[0mbounds\u001b[0m\u001b[0;34m)\u001b[0m\u001b[0;34m\u001b[0m\u001b[0;34m\u001b[0m\u001b[0m\n\u001b[0;32m---> 10\u001b[0;31m         \u001b[0mpopulation\u001b[0m \u001b[0;34m=\u001b[0m \u001b[0mnext_gen\u001b[0m\u001b[0;34m(\u001b[0m\u001b[0mpopulation\u001b[0m\u001b[0;34m,\u001b[0m \u001b[0moffsprings\u001b[0m\u001b[0;34m,\u001b[0m \u001b[0mobj_func\u001b[0m\u001b[0;34m,\u001b[0m \u001b[0mlmd\u001b[0m\u001b[0;34m,\u001b[0m \u001b[0mstrategy\u001b[0m\u001b[0;34m)\u001b[0m\u001b[0;34m\u001b[0m\u001b[0;34m\u001b[0m\u001b[0m\n\u001b[0m\u001b[1;32m     11\u001b[0m         \u001b[0mi\u001b[0m \u001b[0;34m+=\u001b[0m \u001b[0;36m1\u001b[0m\u001b[0;34m\u001b[0m\u001b[0;34m\u001b[0m\u001b[0m\n\u001b[1;32m     12\u001b[0m     \u001b[0;32mreturn\u001b[0m \u001b[0mi\u001b[0m\u001b[0;34m,\u001b[0m \u001b[0mpopulation\u001b[0m\u001b[0;34m[\u001b[0m\u001b[0;36m0\u001b[0m\u001b[0;34m]\u001b[0m\u001b[0;34m,\u001b[0m \u001b[0mobj_func\u001b[0m\u001b[0;34m(\u001b[0m\u001b[0mpopulation\u001b[0m\u001b[0;34m[\u001b[0m\u001b[0;36m0\u001b[0m\u001b[0;34m]\u001b[0m\u001b[0;34m)\u001b[0m\u001b[0;34m\u001b[0m\u001b[0;34m\u001b[0m\u001b[0m\n",
      "\u001b[0;32m/var/folders/xh/nx22b3w92vjcf5w4dtnzkl300000gr/T/ipykernel_54635/1375600707.py\u001b[0m in \u001b[0;36mnext_gen\u001b[0;34m(pop, offsprings, obj_func, lmd, strategy)\u001b[0m\n\u001b[1;32m      4\u001b[0m     \u001b[0;32mif\u001b[0m \u001b[0mstrategy\u001b[0m \u001b[0;34m==\u001b[0m \u001b[0;34m\"comma\"\u001b[0m\u001b[0;34m:\u001b[0m\u001b[0;34m\u001b[0m\u001b[0;34m\u001b[0m\u001b[0m\n\u001b[1;32m      5\u001b[0m         \u001b[0mnext_generation\u001b[0m \u001b[0;34m=\u001b[0m \u001b[0moffsprings\u001b[0m\u001b[0;34m\u001b[0m\u001b[0;34m\u001b[0m\u001b[0m\n\u001b[0;32m----> 6\u001b[0;31m     \u001b[0mres\u001b[0m \u001b[0;34m=\u001b[0m \u001b[0msorted\u001b[0m\u001b[0;34m(\u001b[0m\u001b[0mnext_generation\u001b[0m\u001b[0;34m,\u001b[0m \u001b[0mkey\u001b[0m\u001b[0;34m=\u001b[0m\u001b[0mobj_func\u001b[0m\u001b[0;34m)\u001b[0m\u001b[0;34m\u001b[0m\u001b[0;34m\u001b[0m\u001b[0m\n\u001b[0m\u001b[1;32m      7\u001b[0m     \u001b[0;32mreturn\u001b[0m \u001b[0mnp\u001b[0m\u001b[0;34m.\u001b[0m\u001b[0marray\u001b[0m\u001b[0;34m(\u001b[0m\u001b[0mres\u001b[0m\u001b[0;34m[\u001b[0m\u001b[0;34m:\u001b[0m\u001b[0mlmd\u001b[0m\u001b[0;34m]\u001b[0m\u001b[0;34m)\u001b[0m\u001b[0;34m\u001b[0m\u001b[0;34m\u001b[0m\u001b[0m\n",
      "\u001b[0;32m/var/folders/xh/nx22b3w92vjcf5w4dtnzkl300000gr/T/ipykernel_54635/1729794883.py\u001b[0m in \u001b[0;36meggholder\u001b[0;34m(arg)\u001b[0m\n\u001b[1;32m     19\u001b[0m     \u001b[0;31m# global minimum at f(512,404.2319)=-959.6407\u001b[0m\u001b[0;34m\u001b[0m\u001b[0;34m\u001b[0m\u001b[0;34m\u001b[0m\u001b[0m\n\u001b[1;32m     20\u001b[0m     \u001b[0mx\u001b[0m\u001b[0;34m,\u001b[0m \u001b[0my\u001b[0m \u001b[0;34m=\u001b[0m \u001b[0marg\u001b[0m\u001b[0;34m\u001b[0m\u001b[0;34m\u001b[0m\u001b[0m\n\u001b[0;32m---> 21\u001b[0;31m     \u001b[0;32mreturn\u001b[0m \u001b[0;34m-\u001b[0m\u001b[0;34m(\u001b[0m\u001b[0my\u001b[0m \u001b[0;34m+\u001b[0m \u001b[0;36m47\u001b[0m\u001b[0;34m)\u001b[0m \u001b[0;34m*\u001b[0m \u001b[0msin\u001b[0m\u001b[0;34m(\u001b[0m\u001b[0msqrt\u001b[0m\u001b[0;34m(\u001b[0m\u001b[0mabs\u001b[0m\u001b[0;34m(\u001b[0m\u001b[0mx\u001b[0m \u001b[0;34m/\u001b[0m \u001b[0;36m2\u001b[0m \u001b[0;34m+\u001b[0m \u001b[0my\u001b[0m \u001b[0;34m+\u001b[0m \u001b[0;36m47\u001b[0m\u001b[0;34m)\u001b[0m\u001b[0;34m)\u001b[0m\u001b[0;34m)\u001b[0m \u001b[0;34m-\u001b[0m \u001b[0mx\u001b[0m \u001b[0;34m*\u001b[0m \u001b[0msin\u001b[0m\u001b[0;34m(\u001b[0m\u001b[0msqrt\u001b[0m\u001b[0;34m(\u001b[0m\u001b[0mabs\u001b[0m\u001b[0;34m(\u001b[0m\u001b[0mx\u001b[0m\u001b[0;34m-\u001b[0m\u001b[0my\u001b[0m\u001b[0;34m-\u001b[0m\u001b[0;36m47\u001b[0m\u001b[0;34m)\u001b[0m\u001b[0;34m)\u001b[0m\u001b[0;34m)\u001b[0m\u001b[0;34m\u001b[0m\u001b[0;34m\u001b[0m\u001b[0m\n\u001b[0m\u001b[1;32m     22\u001b[0m \u001b[0;34m\u001b[0m\u001b[0m\n\u001b[1;32m     23\u001b[0m \u001b[0;34m\u001b[0m\u001b[0m\n",
      "\u001b[0;31mKeyboardInterrupt\u001b[0m: "
     ]
    }
   ],
   "source": [
    "n, lmd, mu, strategy, eps, rate = 5, 500, 7, \"plus\", 0.01, 0.9\n",
    "\n",
    "results = []\n",
    "for sigma in [1, 5, 10]:\n",
    "    print(f\"\\u03C3 = {sigma}\")\n",
    "    avg_iter, avg_point, avg_score = 0, np.zeros((2,)), 0\n",
    "    for i in range(n):\n",
    "        res = evolution_strategy(func_name, sigma=sigma, lmd=lmd, mu=mu, strategy=strategy, eps=eps, rate=rate)\n",
    "        results.append(res)\n",
    "        avg_iter += res[0]\n",
    "        avg_point += res[1]\n",
    "        avg_score += res[2]\n",
    "#         print(f\"iteration: {res[0]:<4d}, point: ({res[1][0]: .4f}, {res[1][1]: .4f}), value: {res[2]:<.4f}\")\n",
    "    print(f\"Average   iteration: {int(avg_iter / n):<4d}, avg_point: ({avg_point[0] / n: .4f}, {avg_point[1] / n: .4f}), avg_value: {avg_score / n:<.4f}\\n\")\n"
   ]
  },
  {
   "cell_type": "code",
   "execution_count": 22,
   "id": "2734a875",
   "metadata": {
    "scrolled": false
   },
   "outputs": [
    {
     "name": "stdout",
     "output_type": "stream",
     "text": [
      "μ = 3\n",
      "Average   iteration: 37  , avg_point: ( 80.3668,  96.3883), avg_value: -688.1911\n",
      "\n",
      "μ = 7\n",
      "Average   iteration: 198 , avg_point: ( 25.8729,  310.4048), avg_value: -768.1924\n",
      "\n",
      "μ = 15\n",
      "Average   iteration: 23  , avg_point: ( 260.5391, -26.1947), avg_value: -795.7831\n",
      "\n"
     ]
    }
   ],
   "source": [
    "n, sigma, lmd, strategy, eps, rate = 5, 1, 20, \"plus\", 0.01, 0.95\n",
    "\n",
    "results = []\n",
    "for mu in [3, 7, 15]:\n",
    "    print(f\"\\u03BC = {mu}\")\n",
    "    avg_iter, avg_point, avg_score = 0, np.zeros((2,)), 0\n",
    "    for i in range(n):\n",
    "        res = evolution_strategy(func_name, sigma=sigma, lmd=lmd, mu=mu, strategy=strategy, eps=eps, rate=rate)\n",
    "        results.append(res)\n",
    "        avg_iter += res[0]\n",
    "        avg_point += res[1]\n",
    "        avg_score += res[2]\n",
    "#         print(f\"iteration: {res[0]:<4d}, point: ({res[1][0]: .4f}, {res[1][1]: .4f}), value: {res[2]:<.4f}\")\n",
    "    print(f\"Average   iteration: {int(avg_iter / n):<4d}, avg_point: ({avg_point[0] / n: .4f}, {avg_point[1] / n: .4f}), avg_value: {avg_score / n:<.4f}\\n\")"
   ]
  },
  {
   "cell_type": "code",
   "execution_count": 20,
   "id": "ebb2c799",
   "metadata": {},
   "outputs": [
    {
     "name": "stdout",
     "output_type": "stream",
     "text": [
      "λ = 100\n",
      "Average   iteration: 22  , avg_point: ( 436.1428,  284.5372), avg_value: -891.5019\n",
      "\n",
      "λ = 200\n",
      "Average   iteration: 11  , avg_point: (-134.9077,  224.8057), avg_value: -867.4483\n",
      "\n",
      "λ = 500\n",
      "Average   iteration: 17  , avg_point: ( 456.6367,  445.5422), avg_value: -943.9700\n",
      "\n"
     ]
    }
   ],
   "source": [
    "n, sigma, mu, strategy, eps, rate = 5, 1, 7, \"plus\", 0.1, 0.9\n",
    "\n",
    "results = []\n",
    "for lmd in [100, 200, 500]:\n",
    "    print(f\"\\u03BB = {lmd}\")\n",
    "    avg_iter, avg_point, avg_score = 0, np.zeros((2,)), 0\n",
    "    for i in range(n):\n",
    "        res = evolution_strategy(func_name, sigma=sigma, lmd=lmd, mu=mu, strategy=strategy, eps=eps, rate=rate)\n",
    "        results.append(res)\n",
    "        avg_iter += res[0]\n",
    "        avg_point += res[1]\n",
    "        avg_score += res[2]\n",
    "#         print(f\"iteration: {res[0]:<4d}, point: ({res[1][0]: .4f}, {res[1][1]: .4f}), value: {res[2]:<.4f}\")\n",
    "    print(f\"Average   iteration: {int(avg_iter / n):<4d}, avg_point: ({avg_point[0] / n: .4f}, {avg_point[1] / n: .4f}), avg_value: {avg_score / n:<.4f}\\n\")"
   ]
  },
  {
   "cell_type": "code",
   "execution_count": null,
   "id": "5bf6fbb7",
   "metadata": {},
   "outputs": [],
   "source": []
  },
  {
   "cell_type": "code",
   "execution_count": null,
   "id": "c30badc2",
   "metadata": {},
   "outputs": [],
   "source": []
  }
 ],
 "metadata": {
  "kernelspec": {
   "display_name": "Python 3 (ipykernel)",
   "language": "python",
   "name": "python3"
  },
  "language_info": {
   "codemirror_mode": {
    "name": "ipython",
    "version": 3
   },
   "file_extension": ".py",
   "mimetype": "text/x-python",
   "name": "python",
   "nbconvert_exporter": "python",
   "pygments_lexer": "ipython3",
   "version": "3.7.12"
  }
 },
 "nbformat": 4,
 "nbformat_minor": 5
}
