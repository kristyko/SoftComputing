{
 "cells": [
  {
   "cell_type": "code",
   "execution_count": 1,
   "id": "262e5624",
   "metadata": {},
   "outputs": [],
   "source": [
    "import numpy as np"
   ]
  },
  {
   "cell_type": "code",
   "execution_count": 2,
   "id": "89cc50e9",
   "metadata": {},
   "outputs": [],
   "source": [
    "def goal_func(x):\n",
    "        return x[:, 0] ** 2 + np.sin(x[:, 1] ** 2) - np.tan(x[:, 2])"
   ]
  },
  {
   "cell_type": "code",
   "execution_count": 36,
   "id": "79edaaf6",
   "metadata": {},
   "outputs": [],
   "source": [
    "def initialize_data(initial_params):  \n",
    "    x0 = np.array(initial_params)\n",
    "    steps = [-1, 0, 1]\n",
    "    X = np.array([x0 + [dx1, dx2, dx3] for dx1 in steps for dx2 in steps for dx3 in steps])\n",
    "    np.random.shuffle(X)\n",
    "\n",
    "    D = goal_func(X)\n",
    "#     D1 = goal_func(X)\n",
    "#     d1_avg = np.mean(D1)\n",
    "#     D2 = [1 if d > d1_avg else 0 for d in D1]\n",
    "#     D = np.array([D1, D2]).T\n",
    "    return X, D\n",
    "\n",
    "\n",
    "def get_train_val_data(X, D):\n",
    "    X_train, X_val = np.array(X)[:20, :], np.array(X)[20:, :]\n",
    "    D_train, D_val = np.array(D)[:20], np.array(D)[20:]\n",
    "    return X_train, D_train, X_val, D_val\n",
    "    \n",
    "    \n",
    "X, D = initialize_data([7, 4, 5])\n",
    "X_train, D_train, X_val, D_val = get_train_val_data(X, D)"
   ]
  },
  {
   "cell_type": "code",
   "execution_count": 37,
   "id": "16a0e6b4",
   "metadata": {
    "scrolled": false
   },
   "outputs": [
    {
     "name": "stdout",
     "output_type": "stream",
     "text": [
      "Train data\n",
      "f[6 4 4]=34.55428\n",
      "f[7 3 4]=48.25430\n",
      "f[6 4 5]=39.09261\n",
      "f[7 4 5]=52.09261\n",
      "f[7 3 5]=52.79263\n",
      "f[8 5 4]=62.70983\n",
      "f[7 3 6]=49.70312\n",
      "f[6 5 4]=34.70983\n",
      "f[7 4 6]=49.00310\n",
      "f[8 4 5]=67.09261\n",
      "f[6 4 6]=36.00310\n",
      "f[8 4 6]=64.00310\n",
      "f[6 3 5]=39.79263\n",
      "f[8 3 4]=63.25430\n",
      "f[8 3 5]=67.79263\n",
      "f[8 3 6]=64.70312\n",
      "f[7 5 4]=47.70983\n",
      "f[6 5 6]=36.15865\n",
      "f[8 4 4]=62.55428\n",
      "f[6 3 6]=36.70312\n",
      "\n",
      "Validation data\n",
      "f[7 5 5]=52.24816\n",
      "f[8 5 5]=67.24816\n",
      "f[7 5 6]=49.15865\n",
      "f[6 5 5]=39.24816\n",
      "f[6 3 4]=35.25430\n",
      "f[8 5 6]=64.15865\n",
      "f[7 4 4]=47.55428\n"
     ]
    }
   ],
   "source": [
    "print(\"Train data\")\n",
    "for x, d in zip(X_train, D_train):\n",
    "    print(f\"f{x}={d:<.5f}\") #\"; f(x) > _avg_: {int(d[1])}\")\n",
    "    \n",
    "print(\"\\nValidation data\")\n",
    "for x, d in zip(X_val, D_val):\n",
    "    print(f\"f{x}={d:<.5f}\") #\"; f(x) > _avg_: {int(d[1])}\")"
   ]
  },
  {
   "cell_type": "code",
   "execution_count": 9,
   "id": "b2f5f18d",
   "metadata": {},
   "outputs": [],
   "source": [
    "from sklearn.preprocessing import MinMaxScaler"
   ]
  },
  {
   "cell_type": "markdown",
   "id": "672b6df1",
   "metadata": {},
   "source": [
    "\n",
    "# ANFIS (Adaptive – Network – based Fuzzy Inference System)\n",
    "\n",
    "### (TSK мережа)\n",
    "[original paper](https://www.researchgate.net/publication/3113825_ANFIS_Adaptive-Network-based_Fuzzy_Inference_System?enrichId=rgreq-0b97adb4133e5b17c0627ec0fb55b2c7-XXX&enrichSource=Y292ZXJQYWdlOzMxMTM4MjU7QVM6MTU5MDc1MDY1MTQ3MzkyQDE0MTQ5Mzc4NTk3MzI%3D&el=1_x_2&_esc=publicationCoverPdf)\n",
    "\n",
    "<img src=\"images/TSK/schema.png\" width=500 height=500 />\n",
    "\n",
    "#### Виведення\n",
    "<img src=\"images/TSK/method1.png\" width=500 height=500 />\n",
    "<img src=\"images/TSK/method2.png\" width=500 height=500 />\n",
    "<img src=\"images/TSK/formula.png\" width=500 height=500 />\n",
    "\n",
    "#### Навчання мережі\n",
    "<img src=\"images/TSK/learn1.png\" width=500 height=500 />\n",
    "<img src=\"images/TSK/learn2.png\" width=500 height=500 />\n",
    "<img src=\"images/TSK/learn3.png\" width=500 height=500 />\n"
   ]
  },
  {
   "cell_type": "code",
   "execution_count": 83,
   "id": "d66205e5",
   "metadata": {},
   "outputs": [],
   "source": [
    "class TSK:\n",
    "    def __init__(self, m=2):\n",
    "        self.m = m  # number of rules\n",
    "        self.param = {}\n",
    "        self.x_scaler = MinMaxScaler()\n",
    "        self.y_scaler = MinMaxScaler()\n",
    "        \n",
    "    def _initialize(self, n):\n",
    "        self.param = {\n",
    "            \"L1\": {\n",
    "                \"a\": np.random.rand(self.m, n), \"da\": None,\n",
    "                \"b\": np.random.rand(self.m, n), \"db\": None,\n",
    "                \"mu\": None,\n",
    "            },\n",
    "            \"L2\": {\"w\": None},\n",
    "            \"L3\": {\"p\": np.random.rand(self.m, n+1), \"dp\": None, \"g\": None},\n",
    "            \"L4\": {\"f1\": None, \"f2\": None},\n",
    "            \"L5\": {\"f\": None},\n",
    "        }\n",
    "    \n",
    "    def _membership_func(self, x):\n",
    "        a, b = self.param[\"L1\"][\"a\"], self.param[\"L1\"][\"b\"]\n",
    "        return 1 / (1 + np.exp(b * (x - a)))\n",
    "    \n",
    "    def _loss(self, Z, Z0):\n",
    "        return (Z - Z0) ** 2 / 2\n",
    "    \n",
    "    def _feed_forward(self, x):\n",
    "        # layer1\n",
    "        self.param[\"L1\"][\"mu\"] = self._membership_func(x)\n",
    "        # layer2\n",
    "        self.param[\"L2\"][\"w\"] = np.prod(self.param[\"L1\"][\"mu\"], axis=1)\n",
    "        # layer3\n",
    "        p = self.param[\"L3\"][\"p\"]\n",
    "        self.param[\"L3\"][\"g\"] = self.param[\"L2\"][\"w\"] * (np.dot(p[:,1:], x) + p[:,0]) \n",
    "        # layer4\n",
    "        self.param[\"L4\"][\"f1\"], self.param[\"L4\"][\"f2\"] = self.param[\"L3\"][\"g\"].sum(), self.param[\"L2\"][\"w\"].sum()\n",
    "        # layer5\n",
    "        self.param[\"L5\"][\"f\"] = self.param[\"L4\"][\"f1\"] / self.param[\"L4\"][\"f2\"]\n",
    "        return self.param[\"L5\"][\"f\"]\n",
    "    \n",
    "    def _backpropagate(self, x, y):\n",
    "        mu, a, b, w, g, p, f, n = (\n",
    "            self.param[\"L1\"][\"mu\"], \n",
    "            self.param[\"L1\"][\"a\"],\n",
    "            self.param[\"L1\"][\"b\"],\n",
    "            self.param[\"L2\"][\"w\"], \n",
    "            self.param[\"L3\"][\"g\"],\n",
    "            self.param[\"L3\"][\"p\"],\n",
    "            self.param[\"L5\"][\"f\"],\n",
    "            len(x),\n",
    "        )\n",
    "        diff = f - y\n",
    "        \n",
    "        prod_mu = np.prod(mu, axis=1).reshape(self.m, 1)\n",
    "        diag = np.array([mu[i][i] for i in range(self.m)]).reshape((self.m, 1))\n",
    "        prod_mu1 = prod_mu / diag\n",
    "        weighted_sum = (np.dot(p[:,1:], x) + p[:,0]).reshape((self.m, 1))\n",
    "        helper = weighted_sum * prod_mu1 / prod_mu.sum() - weighted_sum * prod_mu * prod_mu1 / prod_mu.sum() ** 2\n",
    "        \n",
    "        self.param[\"L1\"][\"da\"] = diff * helper * b * np.exp(b * (x - a)) / (1 + np.exp(b * (x - a)))\n",
    "        self.param[\"L1\"][\"db\"] = diff * helper * (a - x) * np.exp(b * (x - a)) / (1 + np.exp(b * (x - a)))\n",
    "\n",
    "        dp0 = diff * prod_mu / prod_mu.sum()\n",
    "        dp = diff * (x * np.tile(prod_mu, (1, n))) / prod_mu.sum()\n",
    "        self.param[\"L3\"][\"dp\"] = np.hstack((dp0, dp))\n",
    "    \n",
    "    def _update(self, learning_rate):\n",
    "        self.param[\"L1\"][\"a\"] = self.param[\"L1\"][\"a\"] - learning_rate * self.param[\"L1\"][\"da\"]\n",
    "        self.param[\"L1\"][\"b\"] = self.param[\"L1\"][\"b\"] - learning_rate * self.param[\"L1\"][\"db\"]\n",
    "        self.param[\"L3\"][\"p\"] = self.param[\"L3\"][\"p\"] - learning_rate * self.param[\"L3\"][\"dp\"]\n",
    "    \n",
    "    def fit(self, X_train, Y_train, X_val, D_val, learning_rate=0.2, eps=1e-3):\n",
    "        self._initialize(X_train.shape[1])\n",
    "        X = self.x_scaler.fit_transform(X_train)\n",
    "        Y = self.y_scaler.fit_transform(D_train.reshape(-1, 1))\n",
    "        X_v = self.normalise_x(X_val)\n",
    "        Y_v = self.normalise_y(D_val)\n",
    "        i = 0\n",
    "        losses = []\n",
    "        val_losses = []\n",
    "        while True:\n",
    "            for x, y in zip(X, Y):\n",
    "                f = self._feed_forward(x)\n",
    "                self._backpropagate(x, y)\n",
    "                self._update(learning_rate)\n",
    "\n",
    "            # check if algorithm should stop\n",
    "            sum_errors = 0\n",
    "            for x, y in zip(X, Y):\n",
    "                f = self._feed_forward(x)\n",
    "                sum_errors += self._loss(y, f)\n",
    "            \n",
    "            losses.append(sum_errors / X.shape[0])\n",
    "            if sum_errors / X.shape[0] < eps:\n",
    "                break\n",
    "                \n",
    "            # validate\n",
    "            val_errors = 0\n",
    "            for x, y in zip(X_v, Y_v):\n",
    "                f = self._feed_forward(x)\n",
    "                val_errors += self._loss(y, f)\n",
    "            val_losses.append(val_errors / X_v.shape[0])\n",
    "            i += 1\n",
    "        return i, losses, val_losses\n",
    "    \n",
    "    def normalise_x(self, x):\n",
    "        return self.x_scaler.transform(x)\n",
    "    \n",
    "    def normalise_y(self, y):\n",
    "        if len(y.shape) < 2:\n",
    "            y = y.reshape((-1, 1))\n",
    "        return self.y_scaler.transform(y)\n",
    "    \n",
    "    def denormalise_x(self, x):\n",
    "        return self.x_scaler.inverse_transform(x)\n",
    "    \n",
    "    def denormalise_y(self, y):\n",
    "        if len(y.shape) < 2:\n",
    "            y = y.reshape((-1, 1))\n",
    "            \n",
    "        return self.y_scaler.inverse_transform(y)\n",
    "    \n",
    "    def predict(self, X):\n",
    "        X_scaled = self.normalise_x(X)\n",
    "        Y = [self._feed_forward(x) for x in X_scaled]\n",
    "        return np.array(Y)"
   ]
  },
  {
   "cell_type": "code",
   "execution_count": 84,
   "id": "1326dccd",
   "metadata": {},
   "outputs": [],
   "source": [
    "%matplotlib inline\n",
    "\n",
    "import matplotlib.pyplot as plt"
   ]
  },
  {
   "cell_type": "code",
   "execution_count": 90,
   "id": "159c6005",
   "metadata": {
    "scrolled": false
   },
   "outputs": [],
   "source": [
    "tsk = TSK()\n",
    "i, losses, val_losses = tsk.fit(X_train, D_train, X_val, D_val)"
   ]
  },
  {
   "cell_type": "code",
   "execution_count": 91,
   "id": "f2b3aad7",
   "metadata": {},
   "outputs": [
    {
     "data": {
      "image/png": "[encoded data removed]",
      "text/plain": [
       "<Figure size 648x288 with 1 Axes>"
      ]
     },
     "metadata": {
      "needs_background": "light"
     },
     "output_type": "display_data"
    }
   ],
   "source": [
    "fig, ax = plt.subplots(figsize=(9, 4))\n",
    "plt.plot(range(i), losses[:-1], label=\"train set\")\n",
    "plt.plot(range(i), val_losses, label=\"validation set\")\n",
    "plt.legend()\n",
    "plt.show()"
   ]
  },
  {
   "cell_type": "code",
   "execution_count": 92,
   "id": "d226352a",
   "metadata": {},
   "outputs": [
    {
     "name": "stdout",
     "output_type": "stream",
     "text": [
      "        f(7,5,5)\n",
      "scaled  (Real):  0.53233 <=>  0.44011 (Predicted)\n",
      "        (Real): 52.24816 <=> 49.18295 (Predicted)\n",
      "\n",
      "        f(8,5,5)\n",
      "scaled  (Real):  0.98362 <=>  0.84838 (Predicted)\n",
      "        (Real): 67.24816 <=> 62.75316 (Predicted)\n",
      "\n",
      "        f(7,5,6)\n",
      "scaled  (Real):  0.43938 <=>  0.39841 (Predicted)\n",
      "        (Real): 49.15865 <=> 47.79661 (Predicted)\n",
      "\n",
      "        f(6,5,5)\n",
      "scaled  (Real):  0.14122 <=>  0.03281 (Predicted)\n",
      "        (Real): 39.24816 <=> 35.64478 (Predicted)\n",
      "\n",
      "        f(6,3,4)\n",
      "scaled  (Real):  0.02106 <=>  0.02732 (Predicted)\n",
      "        (Real): 35.25430 <=> 35.46224 (Predicted)\n",
      "\n",
      "        f(8,5,6)\n",
      "scaled  (Real):  0.89067 <=>  0.80066 (Predicted)\n",
      "        (Real): 64.15865 <=> 61.16700 (Predicted)\n",
      "\n",
      "        f(7,4,4)\n",
      "scaled  (Real):  0.39111 <=>  0.45328 (Predicted)\n",
      "        (Real): 47.55428 <=> 49.62069 (Predicted)\n",
      "\n"
     ]
    }
   ],
   "source": [
    "y_pred = tsk.predict(X_val)\n",
    "y_pred_denorm = tsk.denormalise_y(y_pred)\n",
    "# check out on Validation dataset\n",
    "for x, y, yp, ys, ypd in zip(X_val, D_val, y_pred, tsk.normalise_y(D_val).reshape((-1,)), y_pred_denorm.reshape((-1,))):\n",
    "    print(\n",
    "        f\"        f({x[0]},{x[1]},{x[2]})\\n\"\n",
    "        f\"scaled  (Real): {ys:8.5f} <=> {yp:8.5f} (Predicted)\\n\"\n",
    "        f\"        (Real): {y:8.5f} <=> {ypd:8.5f} (Predicted)\\n\"\n",
    "    )\n"
   ]
  },
  {
   "cell_type": "code",
   "execution_count": null,
   "id": "aa880f0e",
   "metadata": {},
   "outputs": [],
   "source": []
  }
 ],
 "metadata": {
  "kernelspec": {
   "display_name": "Python 3 (ipykernel)",
   "language": "python",
   "name": "python3"
  },
  "language_info": {
   "codemirror_mode": {
    "name": "ipython",
    "version": 3
   },
   "file_extension": ".py",
   "mimetype": "text/x-python",
   "name": "python",
   "nbconvert_exporter": "python",
   "pygments_lexer": "ipython3",
   "version": "3.7.12"
  }
 },
 "nbformat": 4,
 "nbformat_minor": 5
}
