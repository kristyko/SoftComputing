{
 "cells": [
  {
   "cell_type": "code",
   "execution_count": 23,
   "metadata": {},
   "outputs": [],
   "source": [
    "import numpy as np"
   ]
  },
  {
   "cell_type": "code",
   "execution_count": 38,
   "metadata": {},
   "outputs": [],
   "source": [
    "def sigmoid(a, derivative=False):\n",
    "    if derivative:\n",
    "        return a * (1 - a)\n",
    "    return 1. / (1 + np.exp(-a))"
   ]
  },
  {
   "cell_type": "code",
   "execution_count": 43,
   "metadata": {},
   "outputs": [],
   "source": [
    "class Dense_NN:\n",
    "    def __init__(self, p=3, l=3, k=2):\n",
    "        self.W_i = np.random.rand(l, p+1)  # adding bias column\n",
    "        self.W_o = np.random.rand(k, l)\n",
    "    \n",
    "    def _loss(self, d, y):\n",
    "        return 1. / 2 * np.sum((d - y) ** 2)\n",
    "    \n",
    "    def fit(self, X, D, eta=0.02, num_epochs=100):\n",
    "        n, m = X.shape\n",
    "        X = np.hstack((X, np.ones((n, 1))))\n",
    "        while True:\n",
    "            # forward\n",
    "            z1 = np.dot(self.W_i, X.T)\n",
    "            a1 = sigmoid(z1)\n",
    "            z2 = np.dot(self.W_o, a1.T)\n",
    "            y = sigmoid(z2)\n",
    "            \n",
    "            # backward\n",
    "            delta = (y - D) * (1 - z2) * z2\n",
    "            \n",
    "            \n",
    "            # update weights\n",
    "            self.W_i = self.W_i - delta_W_i * eta\n",
    "            self.W_o = self.W_o - delta_W_o * eta\n",
    "    \n",
    "    def evaluate(self, x):\n",
    "        pass\n",
    "    \n",
    "    def accuracy(self):\n",
    "        return\n",
    "    "
   ]
  },
  {
   "cell_type": "code",
   "execution_count": 44,
   "metadata": {},
   "outputs": [],
   "source": [
    "def goal_func(x):\n",
    "    return x[:, 0] ** 2 + np.sin(x[:, 1] ** 2) - np.tan(x[:, 2])"
   ]
  },
  {
   "cell_type": "code",
   "execution_count": 45,
   "metadata": {},
   "outputs": [],
   "source": [
    "# %%timeit \n",
    "\n",
    "x0 = np.array([7, 4, 5])\n",
    "X = np.array([x0 + [dx1, dx2, dx3] for dx1 in [-1, 0, 1] for dx2 in [-1, 0, 1] for dx3 in [-1, 0, 1]])\n",
    "\n",
    "D1 = goal_func(X)\n",
    "d1_avg = np.mean(D1)\n",
    "D2 = [1 if d > d1_avg else 0 for d in D1]\n",
    "D = np.array([D1, D2]).T\n",
    "\n",
    "data = list(zip(X, D))\n",
    "np.random.shuffle(data)\n",
    "X, D = zip(*data)\n",
    "X_train, X_text = np.array(X)[:20, :], np.array(X)[20:, :]\n",
    "D_train, D_test = np.array(D)[:20, :], np.array(D)[20:, :]"
   ]
  },
  {
   "cell_type": "code",
   "execution_count": 46,
   "metadata": {},
   "outputs": [
    {
     "name": "stdout",
     "output_type": "stream",
     "text": [
      "(2, 20)\n"
     ]
    }
   ],
   "source": [
    "nn = Dense_NN()\n",
    "nn.fit(X_train, D_train)\n",
    "# accuracy = nn.accuracy(X_test, D_test)"
   ]
  }
 ],
 "metadata": {
  "kernelspec": {
   "display_name": "Python 3",
   "language": "python",
   "name": "python3"
  },
  "language_info": {
   "codemirror_mode": {
    "name": "ipython",
    "version": 3
   },
   "file_extension": ".py",
   "mimetype": "text/x-python",
   "name": "python",
   "nbconvert_exporter": "python",
   "pygments_lexer": "ipython3",
   "version": "3.7.4"
  }
 },
 "nbformat": 4,
 "nbformat_minor": 2
}
