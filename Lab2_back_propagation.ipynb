{
 "cells": [
  {
   "cell_type": "markdown",
   "metadata": {},
   "source": [
    "# Лабораторна робота №2\n",
    "\n",
    "#### Тема: Нейронна мережа із зворотнім поширенням похибки\n",
    "#### Мета: Вивчити один із методів функціонування нейронних мереж і принципи його застосування"
   ]
  },
  {
   "cell_type": "code",
   "execution_count": 1,
   "metadata": {},
   "outputs": [],
   "source": [
    "import numpy as np"
   ]
  },
  {
   "cell_type": "markdown",
   "metadata": {},
   "source": [
    "Цільова функція має вигляд: \n",
    "$$f(x_1, x_2, x_3) = x_1^2 + \\sin x_2^2 - \\tan x_3$$\n",
    "\n",
    "Датасет отримується шляхом обчислення значень функції в заданих значеннях аргументів $([7, 4, 5])$ та їх варіаціях з кроками $\\pm 1$"
   ]
  },
  {
   "cell_type": "code",
   "execution_count": 2,
   "metadata": {},
   "outputs": [],
   "source": [
    "def goal_func(x):\n",
    "    return x[:, 0] ** 2 + np.sin(x[:, 1] ** 2) - np.tan(x[:, 2])"
   ]
  },
  {
   "cell_type": "code",
   "execution_count": 3,
   "metadata": {},
   "outputs": [],
   "source": [
    "def initialize_data(initial_params):  \n",
    "    x0 = np.array(initial_params)\n",
    "    steps = [-1, 0, 1]\n",
    "    X = np.array([x0 + [dx1, dx2, dx3] for dx1 in steps for dx2 in steps for dx3 in steps])\n",
    "    np.random.shuffle(X)\n",
    "\n",
    "    D1 = goal_func(X)\n",
    "    d1_avg = np.mean(D1)\n",
    "    D2 = [1 if d > d1_avg else 0 for d in D1]\n",
    "    D = np.array([D1, D2]).T\n",
    "    return X, D\n",
    "\n",
    "\n",
    "def get_train_val_data(X, D):\n",
    "    X_train, X_val = np.array(X)[:20, :], np.array(X)[20:, :]\n",
    "    D_train, D_val = np.array(D)[:20, :], np.array(D)[20:, :]\n",
    "    return X_train, D_train, X_val, D_val\n",
    "    \n",
    "    \n",
    "X, D = initialize_data([7, 4, 5])\n",
    "X_train, D_train, X_val, D_val = get_train_val_data(X, D)"
   ]
  },
  {
   "cell_type": "code",
   "execution_count": 4,
   "metadata": {},
   "outputs": [
    {
     "name": "stdout",
     "output_type": "stream",
     "text": [
      "(normalized values)\n",
      "Train data\n",
      "f[7 4 6]=49.00310; f(x) > _avg_: 0\n",
      "f[8 4 5]=67.09261; f(x) > _avg_: 1\n",
      "f[7 5 5]=52.24816; f(x) > _avg_: 1\n",
      "f[6 4 4]=34.55428; f(x) > _avg_: 0\n",
      "f[8 3 5]=67.79263; f(x) > _avg_: 1\n",
      "f[6 3 4]=35.25430; f(x) > _avg_: 0\n",
      "f[6 3 5]=39.79263; f(x) > _avg_: 0\n",
      "f[6 4 6]=36.00310; f(x) > _avg_: 0\n",
      "f[8 3 4]=63.25430; f(x) > _avg_: 1\n",
      "f[8 4 4]=62.55428; f(x) > _avg_: 1\n",
      "f[6 5 4]=34.70983; f(x) > _avg_: 0\n",
      "f[8 5 4]=62.70983; f(x) > _avg_: 1\n",
      "f[7 3 4]=48.25430; f(x) > _avg_: 0\n",
      "f[7 3 6]=49.70312; f(x) > _avg_: 0\n",
      "f[7 5 4]=47.70983; f(x) > _avg_: 0\n",
      "f[6 5 6]=36.15865; f(x) > _avg_: 0\n",
      "f[6 4 5]=39.09261; f(x) > _avg_: 0\n",
      "f[7 4 5]=52.09261; f(x) > _avg_: 1\n",
      "f[7 5 6]=49.15865; f(x) > _avg_: 0\n",
      "f[8 4 6]=64.00310; f(x) > _avg_: 1\n",
      "\n",
      "Validation data\n",
      "f[8 5 5]=67.24816; f(x) > _avg_: 1\n",
      "f[6 5 5]=39.24816; f(x) > _avg_: 0\n",
      "f[8 5 6]=64.15865; f(x) > _avg_: 1\n",
      "f[6 3 6]=36.70312; f(x) > _avg_: 0\n",
      "f[7 3 5]=52.79263; f(x) > _avg_: 1\n",
      "f[8 3 6]=64.70312; f(x) > _avg_: 1\n",
      "f[7 4 4]=47.55428; f(x) > _avg_: 0\n"
     ]
    }
   ],
   "source": [
    "print(\"(normalized values)\")\n",
    "print(\"Train data\")\n",
    "for x, d in zip(X_train, D_train):\n",
    "    print(f\"f{x}={d[0]:<.5f}; f(x) > _avg_: {int(d[1])}\")\n",
    "    \n",
    "print(\"\\nValidation data\")\n",
    "for x, d in zip(X_val, D_val):\n",
    "    print(f\"f{x}={d[0]:<.5f}; f(x) > _avg_: {int(d[1])}\")"
   ]
  },
  {
   "cell_type": "markdown",
   "metadata": {},
   "source": [
    "### Архітектура нейронної мережі\n",
    "\n",
    "\n",
    "<img src=\"images/densenn.png\" width=300 height=300 />\n",
    "\n",
    "Кількість нейронів у прихованому шарі буде змінна (3, 10, 25)\n",
    "\n",
    "Алгоритм начання мережі можна поділити на декілька етапів:\n",
    "- Feed forward\n",
    "<img src=\"images/forward.png\" width=300 height=300  />\n",
    "- Backpropagation\n",
    "<img src=\"images/cost.png\" width=300 height=300 />\n",
    "<img src=\"images/back.png\" width=500 height=500 />\n",
    "- Update of weights\n"
   ]
  },
  {
   "cell_type": "code",
   "execution_count": 5,
   "metadata": {},
   "outputs": [],
   "source": [
    "from sklearn.preprocessing import MinMaxScaler"
   ]
  },
  {
   "cell_type": "code",
   "execution_count": 17,
   "metadata": {},
   "outputs": [],
   "source": [
    "MAX_EPOCH = 30000\n",
    "\n",
    "\n",
    "def sigmoid(x, derivative=False):\n",
    "    if derivative:\n",
    "        return sigmoid(x) * (1 - sigmoid(x))\n",
    "    return 1. / (1 + np.exp(-x))\n",
    "\n",
    "\n",
    "class Dense_NN:\n",
    "    def __init__(self, dims=[3, 3, 2], activation=sigmoid):\n",
    "        ''' NN Parameters initialization\n",
    "        It is generally recommended to have weights uniformly distributed \n",
    "        while bias weights are usually set equal to zeros at the beginning\n",
    "        '''\n",
    "        self.activation = activation\n",
    "        self.dimensions = dims\n",
    "        self.N = len(dims) - 1\n",
    "        self.weights = []\n",
    "        self.biases = []\n",
    "        self.scaler = MinMaxScaler()\n",
    "        \n",
    "    def initialize(self):\n",
    "        for i in range(len(self.dimensions)-1):\n",
    "            p, l = self.dimensions[i:i+2]\n",
    "            self.weights.append(np.random.uniform(-1, 1, (p, l)))\n",
    "            self.biases.append(np.zeros((1, l)))\n",
    "            \n",
    "    def normalize(self, y):\n",
    "        try:\n",
    "            y = self.scaler.transform(y)\n",
    "        except Exception:\n",
    "            print(\"Please, train the model first\")\n",
    "            return\n",
    "        return y\n",
    "    \n",
    "    def denormalize(self, y):\n",
    "        try:\n",
    "            y[:,1][y[:,1] > 0.5] = 1\n",
    "            y[:,1][y[:,1] <= 0.5] = 0\n",
    "            y = self.scaler.inverse_transform(y)\n",
    "        except Exception:\n",
    "            print(\"Please, train the model first\")\n",
    "            return\n",
    "        return y\n",
    "    \n",
    "    def _loss(self, d, y):\n",
    "        return 1. / 2 * np.sum((d - y)  ** 2) \n",
    "    \n",
    "    def _shuffle_data(self, x, d):\n",
    "        data = list(zip(x, d))\n",
    "        np.random.shuffle(data)\n",
    "        x, d = zip(*data)\n",
    "        x, d = np.array(x), np.array(d)\n",
    "        return x, d\n",
    "    \n",
    "    def _feedforward(self, x):\n",
    "        cache = {}\n",
    "        a = x\n",
    "        cache[\"a0\"] = a\n",
    "        for i, (W, b) in enumerate(zip(self.weights, self.biases)):\n",
    "            z = np.dot(a, W) + b\n",
    "            a = sigmoid(z)\n",
    "            cache[\"z\"+str(i+1)] = z\n",
    "            cache[\"a\"+str(i+1)] = a\n",
    "        return cache, a\n",
    "    \n",
    "    def _backpropagation(self, d, y, cache):\n",
    "        n_samples = d.shape[0]\n",
    "        z, a = cache[\"z\"+str(self.N)], cache[\"a\"+str(self.N-1)]\n",
    "        delta = (y - d) * self.activation(z, derivative=True) \n",
    "        dW, db = [np.dot(a.T, delta) / n_samples], [np.sum(delta, axis=0) / n_samples]\n",
    "        for i in range(self.N-1, 0, -1):\n",
    "            z, a = cache[\"z\"+str(i)], cache[\"a\"+str(i-1)]\n",
    "            delta = np.dot(delta, self.weights[i].T) * sigmoid(z, derivative=True)\n",
    "            dW.insert(0, np.dot(a.T, delta) / n_samples)\n",
    "            db.insert(0, np.sum(delta, axis=0) / n_samples)\n",
    "        return dW, db\n",
    "    \n",
    "    def _update(self, learning_rate, dW, db):\n",
    "        for i in range(self.N):\n",
    "            self.weights[i] = self.weights[i] - learning_rate * dW[i] \n",
    "            self.biases[i] = self.biases[i] - learning_rate * db[i]\n",
    "    \n",
    "    def fit(self, X_train, D_train, X_val=None, D_val=None, learning_rate=0.2, epochs=MAX_EPOCH):\n",
    "        self.initialize()\n",
    "        if D_val is not None:\n",
    "            self.scaler.fit(np.vstack([D_train, D_val]))\n",
    "            D_train = self.normalize(D_train)  # first, scale output data to be able to use sigmoid\n",
    "            D_val = self.normalize(D_val) \n",
    "        else:\n",
    "            self.scaler.fit(D_train)\n",
    "            D_train = self.normalize(D_train) \n",
    "        \n",
    "        losses = {}\n",
    "        for epoch in range(epochs+1):\n",
    "            x, d = self._shuffle_data(X_train, D_train)\n",
    "            \n",
    "            cache, y = self._feedforward(x)  # forward\n",
    "            dW, db = self._backpropagation(d, y, cache)  # backward\n",
    "            self._update(learning_rate, dW, db)  # update\n",
    "            \n",
    "            # accuracy\n",
    "            if not (epoch) % (epochs/10):\n",
    "                losses[epoch] = {\"train loss\" : self._loss(d, y), \"train_y\": y}\n",
    "                if D_val is not None:\n",
    "                    _, y_val = self._feedforward(X_val)      \n",
    "                    losses[epoch][\"val loss\"] = self._loss(D_val, y_val)\n",
    "                    losses[epoch][\"val_y\"] = y_val\n",
    "        return losses\n",
    "                \n",
    "    def evaluate(self, x):\n",
    "        _, y = self._feedforward(x)\n",
    "        y = self.denormalize(y)\n",
    "        return y"
   ]
  },
  {
   "cell_type": "markdown",
   "metadata": {},
   "source": [
    "Далі, за спеціальною пропозицією, буде наведено більш детальний розгляд точності алгоритму: які результати він видає для валідаційного сету на останній ітерації, при цьому розглядаються як нормалізовані дані, так і де-нормалізовані\n",
    "\n",
    "Під час тренування мереж такі дії не виконуються в жодніх практиці, а дані, отримані в результаті прямого проходження по мережі і враховуються всі разом при обрахуванні помилки"
   ]
  },
  {
   "cell_type": "code",
   "execution_count": 18,
   "metadata": {},
   "outputs": [],
   "source": [
    "nn = Dense_NN(dims=[3, 10, 2])\n",
    "losses = nn.fit(X_train, D_train, X_val, D_val)"
   ]
  },
  {
   "cell_type": "code",
   "execution_count": 19,
   "metadata": {
    "scrolled": true
   },
   "outputs": [
    {
     "name": "stdout",
     "output_type": "stream",
     "text": [
      "Epoch 0      Train: 4.439049  Validation: 1.532625\n",
      "Epoch 3000   Train: 1.647849  Validation: 0.771064\n",
      "Epoch 6000   Train: 1.049495  Validation: 0.616156\n",
      "Epoch 9000   Train: 0.857953  Validation: 0.641284\n",
      "Epoch 12000  Train: 0.647402  Validation: 0.483447\n",
      "Epoch 15000  Train: 0.489481  Validation: 0.352103\n",
      "Epoch 18000  Train: 0.363786  Validation: 0.263858\n",
      "Epoch 21000  Train: 0.255102  Validation: 0.210063\n",
      "Epoch 24000  Train: 0.174251  Validation: 0.179968\n",
      "Epoch 27000  Train: 0.134435  Validation: 0.164465\n",
      "Epoch 30000  Train: 0.110267  Validation: 0.151577\n"
     ]
    }
   ],
   "source": [
    "for epoch, loss in losses.items():\n",
    "    print(f\"Epoch {epoch:<5d}  Train: {loss['train loss']:<.6f}  Validation: {loss['val loss']:<.6f}\")"
   ]
  },
  {
   "cell_type": "markdown",
   "metadata": {},
   "source": [
    "#### Results of the last train epoch on validation set (normalised)"
   ]
  },
  {
   "cell_type": "code",
   "execution_count": 20,
   "metadata": {},
   "outputs": [
    {
     "name": "stdout",
     "output_type": "stream",
     "text": [
      "feature 1: (model) 0.92099 - 0.98362 (real)    feature 2: (model) 0.99227 - 1.0 (real)\n",
      "feature 1: (model) 0.06179 - 0.14122 (real)    feature 2: (model) 0.00200 - 0.0 (real)\n",
      "feature 1: (model) 0.92728 - 0.89067 (real)    feature 2: (model) 0.99509 - 1.0 (real)\n",
      "feature 1: (model) 0.10068 - 0.06465 (real)    feature 2: (model) 0.00064 - 0.0 (real)\n",
      "feature 1: (model) 0.59632 - 0.54871 (real)    feature 2: (model) 0.65474 - 1.0 (real)\n",
      "feature 1: (model) 0.93267 - 0.90705 (real)    feature 2: (model) 0.97893 - 1.0 (real)\n",
      "feature 1: (model) 0.41083 - 0.39111 (real)    feature 2: (model) 0.40895 - 0.0 (real)\n",
      "\n",
      "Loss on the 1-st feature: 0.008090480159380496\n",
      "Loss on the 2-nd feature: 0.1434863021653156\n"
     ]
    }
   ],
   "source": [
    "pred, d_norm = losses[MAX_EPOCH][\"val_y\"], nn.normalize(D_val)\n",
    "for predicted, real in zip(pred, d_norm):\n",
    "    print(\n",
    "        f\"feature 1: (model) {predicted[0]:<.5f} - {real[0]:<.5f} (real)    \"\n",
    "        f\"feature 2: (model) {predicted[1]:<.5f} - {real[1]} (real)\"\n",
    "    )\n",
    "loss = 1. / 2 * np.sum((pred - d_norm) ** 2, axis=0)\n",
    "print(f\"\\nLoss on the 1-st feature: {loss[0]}\\nLoss on the 2-nd feature: {loss[1]}\")"
   ]
  },
  {
   "cell_type": "markdown",
   "metadata": {},
   "source": [
    "#### Results of the last train epoch on validation set (denormalised)"
   ]
  },
  {
   "cell_type": "code",
   "execution_count": 21,
   "metadata": {
    "scrolled": false
   },
   "outputs": [
    {
     "name": "stdout",
     "output_type": "stream",
     "text": [
      "feature 1: (model) 65.16645 - 67.24816 (real)    feature 2: (model) 1.0 - 1.0 (real)\n",
      "feature 1: (model) 36.60804 - 39.24816 (real)    feature 2: (model) 0.0 - 0.0 (real)\n",
      "feature 1: (model) 65.37542 - 64.15865 (real)    feature 2: (model) 1.0 - 1.0 (real)\n",
      "feature 1: (model) 37.90065 - 36.70312 (real)    feature 2: (model) 0.0 - 0.0 (real)\n",
      "feature 1: (model) 54.37490 - 52.79263 (real)    feature 2: (model) 1.0 - 1.0 (real)\n",
      "feature 1: (model) 65.55473 - 64.70312 (real)    feature 2: (model) 1.0 - 1.0 (real)\n",
      "feature 1: (model) 48.20954 - 47.55428 (real)    feature 2: (model) 0.0 - 0.0 (real)\n",
      "\n",
      "Loss on the 1-st feature: 8.93826902332682\n",
      "Loss on the 2-nd feature: 0.0\n"
     ]
    }
   ],
   "source": [
    "pred_denorm = nn.denormalize(losses[MAX_EPOCH][\"val_y\"])\n",
    "for predicted, real in zip(pred_denorm, D_val):\n",
    "    print(\n",
    "        f\"feature 1: (model) {predicted[0]:<.5f} - {real[0]:<.5f} (real)    \"\n",
    "        f\"feature 2: (model) {predicted[1]} - {real[1]} (real)\"\n",
    "    )\n",
    "loss = 1. / 2 * np.sum((pred_denorm - D_val) ** 2, axis=0)\n",
    "print(f\"\\nLoss on the 1-st feature: {loss[0]}\\nLoss on the 2-nd feature: {loss[1]}\")"
   ]
  },
  {
   "cell_type": "code",
   "execution_count": 22,
   "metadata": {},
   "outputs": [],
   "source": [
    "%matplotlib inline\n",
    "\n",
    "import matplotlib.pyplot as plt\n",
    "import timeit"
   ]
  },
  {
   "cell_type": "markdown",
   "metadata": {},
   "source": [
    "Дослідимо точність натренованої мережі при різних кількостях **прихованих нейронів**: 3, 10, 25"
   ]
  },
  {
   "cell_type": "code",
   "execution_count": 23,
   "metadata": {
    "scrolled": false
   },
   "outputs": [
    {
     "data": {
      "image/png": "[encoded data removed]",
      "text/plain": [
       "<Figure size 1152x432 with 1 Axes>"
      ]
     },
     "metadata": {
      "needs_background": "light"
     },
     "output_type": "display_data"
    }
   ],
   "source": [
    "fig = plt.figure(figsize=(16, 6))\n",
    "results ={}\n",
    "n_hidden_neurons = [3, 10, 25]\n",
    "for k in n_hidden_neurons:\n",
    "    results[k] = {}\n",
    "    start = timeit.default_timer()\n",
    "    nn = Dense_NN(dims=[3, k, 2])\n",
    "    res = nn.fit(X_train, D_train, X_val, D_val)\n",
    "    results[k][\"losses\"] = {\n",
    "        \"epochs\": list(res.keys()),\n",
    "        \"train\": [value[\"train loss\"] for value in res.values()],\n",
    "        \"validation\": [value[\"val loss\"] for value in res.values()]\n",
    "    }\n",
    "    results[k][\"final val results\"] = nn.denormalize(res[MAX_EPOCH][\"val_y\"])\n",
    "    results[k][\"time\"] = timeit.default_timer() - start\n",
    "    plt.plot(results[k][\"losses\"][\"epochs\"], results[k][\"losses\"][\"train\"], label=\"number of hidden neurons = \" + str(k))\n",
    "    \n",
    "plt.title(\"Dependence of nn training rate and accuracy from number of hidden units\")\n",
    "plt.xlabel(\"Epochs\")\n",
    "plt.ylabel(\"Error\")\n",
    "plt.legend(loc=\"upper right\")\n",
    "plt.show()"
   ]
  },
  {
   "cell_type": "code",
   "execution_count": 24,
   "metadata": {
    "scrolled": true
   },
   "outputs": [
    {
     "name": "stdout",
     "output_type": "stream",
     "text": [
      "Validation set\n",
      "Training time and accuracy:\n",
      "(k=3 )  time: 3.709392s  accuracy: 0.31727587552199554\n",
      "(k=10)  time: 4.237535s  accuracy: 0.5843006674689653\n",
      "(k=25)  time: 4.485739s  accuracy: 0.06047232627881505\n",
      "\n",
      "Test set accuracy:\n",
      "                              | k = 3             | k = 10            | k = 25            \n",
      "-------------------------------------------------------------------------------------------\n",
      "x=[8 5 5] | f(x)=(67.2482, 1) | f(x)=(65.0817, 1) | f(x)=(66.5493, 1) | f(x)=(65.3170, 1) | \n",
      "x=[6 5 5] | f(x)=(39.2482, 0) | f(x)=(36.9833, 0) | f(x)=(37.2736, 0) | f(x)=(37.4419, 0) | \n",
      "x=[8 5 6] | f(x)=(64.1587, 1) | f(x)=(63.9484, 1) | f(x)=(65.4949, 1) | f(x)=(64.5649, 1) | \n",
      "x=[6 3 6] | f(x)=(36.7031, 0) | f(x)=(38.6904, 0) | f(x)=(39.4929, 0) | f(x)=(38.3756, 0) | \n",
      "x=[7 3 5] | f(x)=(52.7926, 1) | f(x)=(49.7807, 0) | f(x)=(53.7665, 0) | f(x)=(52.0700, 1) | \n",
      "x=[8 3 6] | f(x)=(64.7031, 1) | f(x)=(60.8943, 1) | f(x)=(61.2064, 1) | f(x)=(63.3123, 1) | \n",
      "x=[7 4 4] | f(x)=(47.5543, 0) | f(x)=(46.1244, 0) | f(x)=(55.5592, 1) | f(x)=(49.1096, 0) | \n"
     ]
    }
   ],
   "source": [
    "print(\"Validation set\\nTraining time and accuracy:\")\n",
    "for k in n_hidden_neurons:\n",
    "    print(f\"(k={k:<2d})  time: {results[k]['time']:<.6f}s  accuracy: {results[k]['losses']['validation'][-1]}\")\n",
    "print(\"\\nTest set accuracy:\")\n",
    "\n",
    "print(\" \" * 30 , end=\"\")\n",
    "for k in n_hidden_neurons:\n",
    "    print(f\"| k = {k:<2d}\" + \" \" * 11, end=\" \")\n",
    "print(\"\\n\" + \"-\" * 91)\n",
    "\n",
    "for i in range(len(X_val)):\n",
    "    print(f\"x={X_val[i]} | f(x)=({D_val[i][0]:<.4f}, {int(D_val[i][1])})\", end = \" | \")\n",
    "    for k in n_hidden_neurons:\n",
    "        print(f\"f(x)=({results[k]['final val results'][i][0]:<.4f}, \" \n",
    "              f\"{int(results[k]['final val results'][i][1])})\", end=\" | \")\n",
    "    print()"
   ]
  },
  {
   "cell_type": "markdown",
   "metadata": {},
   "source": [
    "Дослідимо точність натренованої мережі при трьох різних значеннях **learning rate**: 0.05, 0.2, 0.5"
   ]
  },
  {
   "cell_type": "code",
   "execution_count": 25,
   "metadata": {
    "scrolled": false
   },
   "outputs": [
    {
     "data": {
      "image/png": "[encoded data removed]",
      "text/plain": [
       "<Figure size 1152x432 with 1 Axes>"
      ]
     },
     "metadata": {
      "needs_background": "light"
     },
     "output_type": "display_data"
    }
   ],
   "source": [
    "fig = plt.figure(figsize=(16, 6))\n",
    "test_results = []\n",
    "time = []\n",
    "results ={}\n",
    "learning_rates = [0.05, 0.2, 0.5]\n",
    "for lr in learning_rates:\n",
    "    results[lr] = {}\n",
    "    start = timeit.default_timer()\n",
    "    nn = Dense_NN(dims=[3, 10, 2])\n",
    "    res = nn.fit(X_train, D_train, X_val, D_val, learning_rate=lr)\n",
    "    results[lr][\"losses\"] = {\n",
    "        \"epochs\": list(res.keys()),\n",
    "        \"train\": [value[\"train loss\"] for value in res.values()],\n",
    "        \"validation\": [value[\"val loss\"] for value in res.values()]\n",
    "    }\n",
    "    results[lr][\"final val results\"] = nn.denormalize(res[MAX_EPOCH][\"val_y\"])\n",
    "    results[lr][\"time\"] = timeit.default_timer() - start\n",
    "    plt.plot(results[lr][\"losses\"][\"epochs\"], results[lr][\"losses\"][\"train\"], label=\"learning rate = \" + str(lr))\n",
    "    \n",
    "plt.title(\"Dependence of nn training rate and accuracy from number of hidden units\")\n",
    "plt.xlabel(\"Epochs\")\n",
    "plt.ylabel(\"Error\")\n",
    "plt.legend(loc=\"upper right\")\n",
    "plt.show()"
   ]
  },
  {
   "cell_type": "code",
   "execution_count": 26,
   "metadata": {
    "scrolled": true
   },
   "outputs": [
    {
     "name": "stdout",
     "output_type": "stream",
     "text": [
      "Validation set\n",
      "Training time and accuracy:\n",
      "(lr=0.05)  time: 4.441562s  accuracy: 0.46297674164444425\n",
      "(lr=0.20)  time: 4.122742s  accuracy: 0.17356122198300059\n",
      "(lr=0.50)  time: 4.005227s  accuracy: 0.05879433965275063\n",
      "\n",
      "Test set accuracy:\n",
      "          |                   | lr = 0.05         | lr = 0.20         | lr = 0.50         \n",
      "-------------------------------------------------------------------------------------------\n",
      "x=[8 5 5] | f(x)=(67.2482, 1) | f(x)=(60.2577, 1) | f(x)=(65.0322, 1) | f(x)=(64.9071, 1) | \n",
      "x=[6 5 5] | f(x)=(39.2482, 0) | f(x)=(38.6701, 0) | f(x)=(36.2434, 0) | f(x)=(37.2559, 0) | \n",
      "x=[8 5 6] | f(x)=(64.1587, 1) | f(x)=(60.5183, 1) | f(x)=(64.6439, 1) | f(x)=(63.6393, 1) | \n",
      "x=[6 3 6] | f(x)=(36.7031, 0) | f(x)=(39.2109, 0) | f(x)=(37.6813, 0) | f(x)=(37.5946, 0) | \n",
      "x=[7 3 5] | f(x)=(52.7926, 1) | f(x)=(52.9995, 0) | f(x)=(53.7142, 1) | f(x)=(53.7578, 1) | \n",
      "x=[8 3 6] | f(x)=(64.7031, 1) | f(x)=(60.1250, 1) | f(x)=(65.1193, 1) | f(x)=(64.5644, 1) | \n",
      "x=[7 4 4] | f(x)=(47.5543, 0) | f(x)=(51.8008, 1) | f(x)=(47.4195, 0) | f(x)=(48.1529, 0) | \n"
     ]
    }
   ],
   "source": [
    "print(\"Validation set\\nTraining time and accuracy:\")\n",
    "for lr in learning_rates:\n",
    "    print(f\"(lr={lr:<.2f})  time: {results[lr]['time']:<.6f}s  accuracy: {results[lr]['losses']['validation'][-1]}\")\n",
    "print(\"\\nTest set accuracy:\")\n",
    "\n",
    "print(\" \" * 10 + \"|\" + \" \" * 19 , end=\"\")\n",
    "for lr in learning_rates:\n",
    "    print(f\"| lr = {lr:<.2f}\" + \" \" * 8, end=\" \")\n",
    "print(\"\\n\" + \"-\" * 91)\n",
    "    \n",
    "for i in range(len(X_val)):\n",
    "    print(f\"x={X_val[i]} | f(x)=({D_val[i][0]:<.4f}, {int(D_val[i][1])})\", end = \" | \")\n",
    "    for lr in learning_rates:\n",
    "        print(f\"f(x)=({results[lr]['final val results'][i][0]:<.4f}, \" \n",
    "              f\"{int(results[lr]['final val results'][i][1])})\", end=\" | \")\n",
    "    print()"
   ]
  },
  {
   "cell_type": "code",
   "execution_count": null,
   "metadata": {},
   "outputs": [],
   "source": []
  }
 ],
 "metadata": {
  "kernelspec": {
   "display_name": "Python 3 (ipykernel)",
   "language": "python",
   "name": "python3"
  },
  "language_info": {
   "codemirror_mode": {
    "name": "ipython",
    "version": 3
   },
   "file_extension": ".py",
   "mimetype": "text/x-python",
   "name": "python",
   "nbconvert_exporter": "python",
   "pygments_lexer": "ipython3",
   "version": "3.7.12"
  }
 },
 "nbformat": 4,
 "nbformat_minor": 2
}
