{
 "cells": [
  {
   "cell_type": "markdown",
   "id": "1fa0ef7a",
   "metadata": {},
   "source": [
    "# I\n",
    "\n"
   ]
  },
  {
   "cell_type": "code",
   "execution_count": 2,
   "id": "3cd1d9cc",
   "metadata": {},
   "outputs": [],
   "source": [
    "import numpy as np\n",
    "from sklearn.cluster import KMeans"
   ]
  },
  {
   "cell_type": "code",
   "execution_count": 3,
   "id": "f41130e5",
   "metadata": {},
   "outputs": [],
   "source": [
    "# We will use assume that we have a ready implementation of KMeans algorithm for the sake of saving time\n",
    "\n",
    "def KMeans(X, k):\n",
    "    # ...\n",
    "    return clusters, stds"
   ]
  },
  {
   "cell_type": "code",
   "execution_count": 4,
   "id": "e064b7d4",
   "metadata": {},
   "outputs": [],
   "source": [
    "class RBFNet:\n",
    "    def __init__(self, X, y, tX, ty, num_of_classes, k, std_from_clusters=True):\n",
    "        self.X = X\n",
    "        self.y = y\n",
    "\n",
    "        self.tX = tX\n",
    "        self.ty = ty\n",
    "\n",
    "        self.k = k\n",
    "        self.std_from_clusters = std_from_clusters\n",
    "        \n",
    "    def _eucledian(x1, x2):\n",
    "        return np.linalg.norm(x1 - x2)\n",
    "        \n",
    "    def _rbf(self, x, c, std):\n",
    "        beta = 1 / std ** 2  # it is a hyperparameter, there are other versions of it\n",
    "        d = self._eucledian(x, c) ** 2\n",
    "        return np.exp(-d * beta)\n",
    "    \n",
    "    def _one_hot(y, k):\n",
    "        res = np.eye(k)[np.array(y).reshape(-1)]\n",
    "        return res.reshape(list(y.shape)+[k])\n",
    "        \n",
    "    def fit(self):\n",
    "        centroids, std_list = KMeans(self.X, self.k)\n",
    "\n",
    "        if not self.std_from_clusters:\n",
    "            dMax = np.max([self._eucledian(c1, c2) for c1 in centroids for c2 in centroids])\n",
    "            std_list = np.repeat(dMax / np.sqrt(2 * self.k), self.k)\n",
    "\n",
    "        rbfX = np.array([\n",
    "            [self.rbf(x, c, s) for (c, s) in zip(centroids, std_list)]\n",
    "            for x in X\n",
    "        ])\n",
    "\n",
    "        # w = (X_T * X)^(-1) * X_T * y\n",
    "        m = np.linalg.inv(np.dot(rbfX.T, rbfX))\n",
    "        self.w = np.dot(np.dot(m, rbfX.T), self._one_hot(self.y, self.k))\n",
    "\n",
    "        RBF_list_tst = np.array([\n",
    "            [self._rbf(tx, c, s) for (c, s) in zip(centroids, std_list)]\n",
    "            for tx in self.tX\n",
    "        ])\n",
    "\n",
    "        self.pred_ty = np.dot(RBF_list_tst, self.w)\n",
    "        self.pred_ty = np.array([np.argmax(y) for y in self.pred_ty])\n",
    "        return self.pred_ty\n",
    "        "
   ]
  },
  {
   "cell_type": "markdown",
   "id": "2966ee6b",
   "metadata": {},
   "source": [
    "# II"
   ]
  },
  {
   "cell_type": "markdown",
   "id": "96b88606",
   "metadata": {},
   "source": [
    "Очевидно, дана задача - це задача на оптимізацію і перше, що мені прийшло на думку - використати генетичний алгоритм (напевне тому що я йому присвятила найбільше часу у вивченні). Втім, він тут не надто застосовний, оскільки його ціль - знайти оптимальні точки у випадку відомої функції, тут же, нам окрім даних за попередні роки нічого не відомо.\n",
    "\n",
    "Це приводить нас до мурашиних алгоритмів. Наприклад можна скористатися алгоритмом ACO - ant colony optimisation. У основі алгоритму лежить поведінка мурашиної колонії — маркування вдалих доріг великою кількістю феромону. Робота починається з розміщення мурашок у вершинах графа (містах), потім починається рух мурашок — напрям визначається імовірнісним методом, на підставі формули:\n",
    "\n",
    "${\\displaystyle P_{i}={\\frac {{l_{i}}^{q}\\cdot {f_{i}}^{p}}{\\sum _{k=0}^{N}{{l_{k}}^{q}\\cdot {f_{k}}^{p}}}}}{\\displaystyle P_{i}={\\frac {{l_{i}}^{q}\\cdot {f_{i}}^{p}}{\\sum _{k=0}^{N}{{l_{k}}^{q}\\cdot {f_{k}}^{p}}}}}$,\n",
    "де:\n",
    "\n",
    "${\\displaystyle P_{i}}P_{i}$ — вірогідність переходу дорогою ${\\displaystyle i}i,\n",
    "{\\displaystyle l_{i}}{\\displaystyle l_{i}}$ — довжина ${\\displaystyle i}$i-ого переходу,\n",
    "${\\displaystyle f_{i}}{\\displaystyle f_{i}}$ — кількість феромонів на ${\\displaystyle i}$i-ому переході,\n",
    "${\\displaystyle q}q — величина, яка визначає «жадібність» алгоритму,\n",
    "{\\displaystyle p}p — величина, яка визначає «стадність» алгоритму і\n",
    "{\\displaystyle q+p=1}{\\displaystyle q+p=1}.$\n",
    "\n",
    "Також можна звернутися до методів лінійного програмування і використати симплекс метод на даних, які у нас є.\n",
    "\n",
    "Зрозуміло що для вищої точності результату нам необхідно більше даних."
   ]
  },
  {
   "cell_type": "code",
   "execution_count": null,
   "id": "8cada15b",
   "metadata": {},
   "outputs": [],
   "source": []
  }
 ],
 "metadata": {
  "kernelspec": {
   "display_name": "Python 3 (ipykernel)",
   "language": "python",
   "name": "python3"
  },
  "language_info": {
   "codemirror_mode": {
    "name": "ipython",
    "version": 3
   },
   "file_extension": ".py",
   "mimetype": "text/x-python",
   "name": "python",
   "nbconvert_exporter": "python",
   "pygments_lexer": "ipython3",
   "version": "3.7.12"
  }
 },
 "nbformat": 4,
 "nbformat_minor": 5
}
